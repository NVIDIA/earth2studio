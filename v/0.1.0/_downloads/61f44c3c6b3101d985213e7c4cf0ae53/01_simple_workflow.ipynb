{
  "cells": [
    {
      "cell_type": "markdown",
      "metadata": {},
      "source": [
        "\n# Running Simple Inference\n\nSimple deterministic inference workflow.\n\nThis example will demonstrate how to run a simple inference workflow to generate a\nsimple determinstic forecast using one of the built in models of Earth-2 Inference\nStudio.\n\nIn this example you will learn:\n\n- How to instantiate a built in prognostic model\n- Creating a data source and IO object\n- Running a simple built in workflow\n- Post-processing results\n"
      ]
    },
    {
      "cell_type": "markdown",
      "metadata": {},
      "source": [
        "## Set Up\nAll workflows inside Earth-2 Inference Studio require constructed components to be\nhanded to them. In this example, lets take a look at the most basic:\n:py:meth:`earth2studio.run.deterministic`.\n\n"
      ]
    },
    {
      "cell_type": "markdown",
      "metadata": {},
      "source": [
        ".. literalinclude:: ../../earth2studio/run.py\n   :language: python\n   :lines: 35-42\n\n"
      ]
    },
    {
      "cell_type": "markdown",
      "metadata": {},
      "source": [
        "Thus we need the following:\n\n- Prognostic Model: Use the built in FourCastNet Model :py:class:`earth2studio.models.px.FCN`.\n- Datasource: Pull data from the GFS data api :py:class:`earth2studio.data.GFS`.\n- IO Backend: Lets save the outputs into a Zarr store :py:class:`earth2studio.io.ZarrBackend`.\n\n"
      ]
    },
    {
      "cell_type": "code",
      "execution_count": null,
      "metadata": {
        "collapsed": false
      },
      "outputs": [],
      "source": [
        "import numpy as np\nfrom collections import OrderedDict\nfrom dotenv import load_dotenv\n\nload_dotenv()  # TODO: make common example prep function\n\nfrom earth2studio.models.px import FCN\nfrom earth2studio.data import GFS\nfrom earth2studio.io import ZarrBackend\n\n# Load the default model package which downloads the check point from NGC\npackage = FCN.load_default_package()\nmodel = FCN.load_model(package)\n\n# Create the data source\ndata = GFS()\n\n# Create the IO handler, store in memory\nio = ZarrBackend()"
      ]
    },
    {
      "cell_type": "markdown",
      "metadata": {},
      "source": [
        "## Execute the Workflow\nWith all componments intialized, running the workflow is a single line of Python code.\nWorkflow will return the provided IO object back to the user, which can be used to\nthen post process. Some have additional APIs that can be handy for post-processing or\nsaving to file. Check the API docs for more information.\n\nFor the forecast we will predict for two days (these will get executed as a batch) for\n20 forecast steps which is 5 days.\n\n"
      ]
    },
    {
      "cell_type": "code",
      "execution_count": null,
      "metadata": {
        "collapsed": false
      },
      "outputs": [],
      "source": [
        "import earth2studio.run as run\n\nnsteps = 20\nio = run.deterministic([\"2024-01-01\"], nsteps, model, data, io)"
      ]
    },
    {
      "cell_type": "markdown",
      "metadata": {},
      "source": [
        "## Post Processing\nThe last step is to post process our results. Cartopy is a greate library for plotting\nfields on projects of a sphere. Here we will just plot the temperature at 2 meters\n(t2m) 1 day into the forecast.\n\nNotice that the Zarr IO function has additional APIs to interact with the stored data.\n\n"
      ]
    },
    {
      "cell_type": "code",
      "execution_count": null,
      "metadata": {
        "collapsed": false
      },
      "outputs": [],
      "source": [
        "import os\n\nos.makedirs(\"outputs\", exist_ok=True)\nimport matplotlib.pyplot as plt\nimport cartopy.crs as ccrs\nimport cartopy.feature as cfeature\nfrom matplotlib.colors import TwoSlopeNorm\n\nforecast = \"2024-01-01\"\nvariable = \"t2m\"\nstep = 4  # lead time = 24 hrs\n\nplt.close(\"all\")\n# Create a Robinson projection\nprojection = ccrs.Robinson()\n\n# Create a figure and axes with the specified projection\nfig, ax = plt.subplots(subplot_kw={\"projection\": projection}, figsize=(10, 6))\n\n# Plot the field using pcolormesh\nim = ax.pcolormesh(\n    io[\"lon\"][:],\n    io[\"lat\"][:],\n    io[variable][0, step],\n    transform=ccrs.PlateCarree(),\n    cmap=\"coolwarm\",\n)\n\n# Set title\nax.set_title(f\"{forecast} - Lead time: {6*step}hrs\")\n\n# Add coastlines and gridlines\nax.coastlines()\nax.gridlines()\nplt.savefig(\"outputs/01_t2m_prediction.jpg\")"
      ]
    }
  ],
  "metadata": {
    "kernelspec": {
      "display_name": "Python 3",
      "language": "python",
      "name": "python3"
    },
    "language_info": {
      "codemirror_mode": {
        "name": "ipython",
        "version": 3
      },
      "file_extension": ".py",
      "mimetype": "text/x-python",
      "name": "python",
      "nbconvert_exporter": "python",
      "pygments_lexer": "ipython3",
      "version": "3.10.12"
    }
  },
  "nbformat": 4,
  "nbformat_minor": 0
}