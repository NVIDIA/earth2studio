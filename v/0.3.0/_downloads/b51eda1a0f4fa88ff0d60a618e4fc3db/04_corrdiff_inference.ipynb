{
  "cells": [
    {
      "cell_type": "markdown",
      "metadata": {},
      "source": [
        "\n# Generative Downscaling\n\nGenerative downscaling over Taiwan using CorrDiff diffusion model.\n\nThis example will demonstrate how to user Nvidia's CorrDiff model, trained for\npredicting weather over Taiwan, to perform generative downscaling from quarter degree\nglobal forecast data to ~3km.\n\nThis checkpoint was trained on ERA5 data and WRF data that spans 2018-2021 at one hour\ntime resolution. In this example, we demonstrate an application to GFS data for a typhoon\nsuper-resolution from 2023. The model's performance on GFS data and on data from this year\nhas not been evaluated.\n\nIn this example you will learn:\n\n- Creating a custom workflow for running CorrDiff inference\n- Creating a data-source for CorrDiff's input\n- Initializing and running CorrDiff diagnostic model\n- Post-processing results.\n"
      ]
    },
    {
      "cell_type": "markdown",
      "metadata": {},
      "source": [
        "## Creating a Simple CorrDiff Workflow\n\nAs usual, we start with creating a simple workflow to run CorrDiff in. To maximize the\ngeneralization of this workflow, we use dependency injection following the pattern\nprovided inside :py:obj:`earth2studio.run`. Since CorrDiff is a diagnostic model, this\nworkflow won't predict a time-series, rather just an instantaneous prediction.\n\n\nFor this workflow, we specify\n\n- time: Input list of datetimes / strings to run inference for\n- corrdiff: The initialized CorrDiffTaiwan model\n- data: Initialized data source to fetch initial conditions from\n- io: IOBackend\n- number_of_samples: Number of samples to generate from the model\n\n"
      ]
    },
    {
      "cell_type": "code",
      "execution_count": null,
      "metadata": {
        "collapsed": false
      },
      "outputs": [],
      "source": [
        "import os\n\nos.makedirs(\"outputs\", exist_ok=True)\nfrom dotenv import load_dotenv\n\nload_dotenv()  # TODO: make common example prep function\n\nfrom collections import OrderedDict\nfrom datetime import datetime\n\nimport numpy as np\nimport torch\nfrom loguru import logger\n\nfrom earth2studio.data import DataSource, prep_data_array\nfrom earth2studio.io import IOBackend\nfrom earth2studio.models.dx import CorrDiffTaiwan\nfrom earth2studio.utils.coords import map_coords, split_coords\nfrom earth2studio.utils.time import to_time_array\n\n\ndef run(\n    time: list[str] | list[datetime] | list[np.datetime64],\n    corrdiff: CorrDiffTaiwan,\n    data: DataSource,\n    io: IOBackend,\n    number_of_samples: int = 1,\n) -> IOBackend:\n    \"\"\"CorrDiff infernce workflow\n\n    Parameters\n    ----------\n    time : list[str] | list[datetime] | list[np.datetime64]\n        List of string, datetimes or np.datetime64\n    corrdiff : CorrDiffTaiwan\n        CorrDiff mode\n    data : DataSource\n        Data source\n    io : IOBackend\n        IO object\n    number_of_samples : int, optional\n        Number of samples to generate, by default 1\n\n    Returns\n    -------\n    IOBackend\n        Output IO object\n    \"\"\"\n    logger.info(\"Running corrdiff inference!\")\n    device = torch.device(\"cuda\" if torch.cuda.is_available() else \"cpu\")\n    logger.info(f\"Inference device: {device}\")\n\n    corrdiff = corrdiff.to(device)\n    # Update the number of samples for corrdiff to generate\n    corrdiff.number_of_samples = number_of_samples\n\n    # Fetch data from data source and load onto device\n    time = to_time_array(time)\n    x, coords = prep_data_array(\n        data(time, corrdiff.input_coords()[\"variable\"]), device=device\n    )\n    x, coords = map_coords(x, coords, corrdiff.input_coords())\n\n    logger.success(f\"Fetched data from {data.__class__.__name__}\")\n\n    # Set up IO backend\n    output_coords = corrdiff.output_coords(corrdiff.input_coords())\n    total_coords = OrderedDict(\n        {\n            \"time\": coords[\"time\"],\n            \"sample\": output_coords[\"sample\"],\n            \"ilat\": output_coords[\"ilat\"],\n            \"ilon\": output_coords[\"ilon\"],\n        }\n    )\n    io.add_array(total_coords, output_coords[\"variable\"])\n\n    # Add lat/lon grid metadata arrays\n    io.add_array(\n        OrderedDict({\"ilat\": total_coords[\"ilat\"], \"ilon\": total_coords[\"ilon\"]}),\n        \"lat\",\n        data=corrdiff.out_lat,\n    )\n    io.add_array(\n        OrderedDict({\"ilat\": total_coords[\"ilat\"], \"ilon\": total_coords[\"ilon\"]}),\n        \"lon\",\n        data=corrdiff.out_lon,\n    )\n\n    logger.info(\"Inference starting!\")\n    x, coords = corrdiff(x, coords)\n    io.write(*split_coords(x, coords))\n\n    logger.success(\"Inference complete\")\n    return io"
      ]
    },
    {
      "cell_type": "markdown",
      "metadata": {},
      "source": [
        "## Set Up\nWith the workflow defined, the next step is initializing the needed components from\nEarth-2 studio\n\nIt's clear we need the following:\n\n- Diagnostic Model: CorrDiff model for Taiwan :py:class:`earth2studio.models.dx.CorrDiffTaiwan`.\n- Datasource: Pull data from the GFS data api :py:class:`earth2studio.data.GFS`.\n- IO Backend: Save the outputs into a Zarr store :py:class:`earth2studio.io.ZarrBackend`.\n\n\n"
      ]
    },
    {
      "cell_type": "code",
      "execution_count": null,
      "metadata": {
        "collapsed": false
      },
      "outputs": [],
      "source": [
        "from earth2studio.data import GFS\nfrom earth2studio.io import ZarrBackend\n\n# Create CorrDiff model\npackage = CorrDiffTaiwan.load_default_package()\ncorrdiff = CorrDiffTaiwan.load_model(package)\n\n# Create the data source\ndata = GFS()\n\n# Create the IO handler, store in memory\nio = ZarrBackend()"
      ]
    },
    {
      "cell_type": "markdown",
      "metadata": {},
      "source": [
        "## Execute the Workflow\nWith all components initialized, running the workflow is a single line of Python code.\nWorkflow will return the provided IO object back to the user, which can be used to\nthen post process. Some have additional APIs that can be handy for post-processing or\nsaving to file. Check the API docs for more information.\n\nFor the inference we will predict 1 sample for a particular timestamp representing\nTyphoon Koinu.\n\n"
      ]
    },
    {
      "cell_type": "code",
      "execution_count": null,
      "metadata": {
        "collapsed": false
      },
      "outputs": [],
      "source": [
        "io = run([\"2023-10-04T18:00:00\"], corrdiff, data, io, number_of_samples=1)"
      ]
    },
    {
      "cell_type": "markdown",
      "metadata": {},
      "source": [
        "## Post Processing\nThe last step is to post process our results. Cartopy is a great library for plotting\nfields on projections of a sphere.\n\nNotice that the Zarr IO function has additional APIs to interact with the stored data.\n\n"
      ]
    },
    {
      "cell_type": "code",
      "execution_count": null,
      "metadata": {
        "collapsed": false
      },
      "outputs": [],
      "source": [
        "import cartopy.crs as ccrs\nimport matplotlib.pyplot as plt\n\nprojection = ccrs.LambertConformal(\n    central_longitude=io[\"lon\"][:].mean(),\n)\n\nfig = plt.figure(figsize=(4 * 8, 8))\n\nax0 = fig.add_subplot(1, 3, 1, projection=projection)\nc = ax0.pcolormesh(\n    io[\"lon\"],\n    io[\"lat\"],\n    io[\"mrr\"][0, 0],\n    transform=ccrs.PlateCarree(),\n    cmap=\"inferno\",\n)\nplt.colorbar(c, ax=ax0, shrink=0.6, label=\"mrr dBz\")\nax0.coastlines()\nax0.gridlines()\nax0.set_title(\"Radar Reflectivity\")\n\nax1 = fig.add_subplot(1, 3, 2, projection=projection)\nc = ax1.pcolormesh(\n    io[\"lon\"],\n    io[\"lat\"],\n    io[\"t2m\"][0, 0],\n    transform=ccrs.PlateCarree(),\n    cmap=\"RdBu_r\",\n)\nplt.colorbar(c, ax=ax1, shrink=0.6, label=\"K\")\nax1.coastlines()\nax1.gridlines()\nax1.set_title(\"2-meter Temperature\")\n\nax2 = fig.add_subplot(1, 3, 3, projection=projection)\nc = ax2.pcolormesh(\n    io[\"lon\"],\n    io[\"lat\"],\n    np.sqrt(io[\"u10m\"][0, 0] ** 2 + io[\"v10m\"][0, 0] ** 2),\n    transform=ccrs.PlateCarree(),\n    cmap=\"Greens\",\n)\nplt.colorbar(c, ax=ax2, shrink=0.6, label=\"w10m m s^-1\")\nax2.coastlines()\nax2.gridlines()\nax2.set_title(\"10-meter Wind Speed\")\n\nplt.savefig(\"outputs/04_corr_diff_prediction.jpg\")"
      ]
    }
  ],
  "metadata": {
    "kernelspec": {
      "display_name": "Python 3",
      "language": "python",
      "name": "python3"
    },
    "language_info": {
      "codemirror_mode": {
        "name": "ipython",
        "version": 3
      },
      "file_extension": ".py",
      "mimetype": "text/x-python",
      "name": "python",
      "nbconvert_exporter": "python",
      "pygments_lexer": "ipython3",
      "version": "3.10.14"
    }
  },
  "nbformat": 4,
  "nbformat_minor": 0
}