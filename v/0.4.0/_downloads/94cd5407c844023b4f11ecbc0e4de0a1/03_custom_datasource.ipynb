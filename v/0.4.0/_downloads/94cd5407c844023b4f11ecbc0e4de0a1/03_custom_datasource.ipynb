{
  "cells": [
    {
      "cell_type": "markdown",
      "metadata": {},
      "source": [
        "\n# Extending Data Sources\n\nImplementing a custom data source\n\nThis example will demonstrate how to extend Earth2Studio by implementing a custom data\nsource to use in a built in workflow.\n\nIn this example you will learn:\n\n- API requirements of data soruces\n- Implementing a custom data soruce\n"
      ]
    },
    {
      "cell_type": "markdown",
      "metadata": {},
      "source": [
        "## Custom Data Source\nEarth2Studio defines the required APIs for data sources in\n:py:class:`earth2studio.data.base.DataSource` which requires just a call function.\nFor this example, we will consider extending an existing remote data source with\nanother atmospheric field we can calculate.\n\nThe :py:class:`earth2studio.data.ARCO` data source provides the ERA5 dataset in a cloud\noptimized format, however it only provides specific humidity. This is a problem for\nmodels that may use relative humidity as an input. Based on ECMWF documentation we can\ncalculate the relative humidity based on temperature and geo-potential.\n\n"
      ]
    },
    {
      "cell_type": "code",
      "execution_count": null,
      "metadata": {
        "collapsed": false
      },
      "outputs": [],
      "source": [
        "import os\n\nos.makedirs(\"outputs\", exist_ok=True)\nfrom dotenv import load_dotenv\n\nload_dotenv()  # TODO: make common example prep function\n\nfrom datetime import datetime\n\nimport numpy as np\nimport xarray as xr\n\nfrom earth2studio.data import ARCO, GFS\nfrom earth2studio.data.utils import prep_data_inputs\nfrom earth2studio.utils.type import TimeArray, VariableArray\n\n\nclass CustomDataSource:\n    \"\"\"Custom ARCO datasource\"\"\"\n\n    relative_humidity_ids = [\n        \"r50\",\n        \"r100\",\n        \"r150\",\n        \"r200\",\n        \"r250\",\n        \"r300\",\n        \"r400\",\n        \"r500\",\n        \"r600\",\n        \"r700\",\n        \"r850\",\n        \"r925\",\n        \"r1000\",\n    ]\n\n    def __init__(self, cache: bool = True, verbose: bool = True):\n        self.arco = ARCO(cache, verbose)\n\n    def __call__(\n        self,\n        time: datetime | list[datetime] | TimeArray,\n        variable: str | list[str] | VariableArray,\n    ) -> xr.DataArray:\n        \"\"\"Function to get data.\n\n        Parameters\n        ----------\n        time : datetime | list[datetime] | TimeArray\n            Timestamps to return data for (UTC).\n        variable : str | list[str] | VariableArray\n            String, list of strings or array of strings that refer to variables to\n            return. Must be in IFS lexicon.\n\n        Returns\n        -------\n        xr.DataArray\n        \"\"\"\n        time, variable = prep_data_inputs(time, variable)\n\n        # Replace relative humidity with respective temperature\n        # and specifc humidity fields\n        variable_expanded = []\n        for v in variable:\n            if v in self.relative_humidity_ids:\n                level = int(v[1:])\n                variable_expanded.extend([f\"t{level}\", f\"q{level}\"])\n            else:\n                variable_expanded.append(v)\n        variable_expanded = list(set(variable_expanded))\n\n        # Fetch from ARCO\n        da_exp = self.arco(time, variable_expanded)\n\n        # Calculate relative humidity when needed\n        arrays = []\n        for v in variable:\n            if v in self.relative_humidity_ids:\n                level = int(v[1:])\n                t = da_exp.sel(variable=f\"t{level}\").values\n                q = da_exp.sel(variable=f\"q{level}\").values\n                rh = self.calc_relative_humdity(t, q, 100 * level)\n                arrays.append(rh)\n            else:\n                arrays.append(da_exp.sel(variable=v).values)\n\n        da = xr.DataArray(\n            data=np.stack(arrays, axis=1),\n            dims=[\"time\", \"variable\", \"lat\", \"lon\"],\n            coords=dict(\n                time=da_exp.coords[\"time\"].values,\n                variable=np.array(variable),\n                lat=da_exp.coords[\"lat\"].values,\n                lon=da_exp.coords[\"lon\"].values,\n            ),\n        )\n        return da\n\n    def calc_relative_humdity(\n        self, temperature: np.array, specific_humidity: np.array, pressure: float\n    ) -> np.array:\n        \"\"\"Relative humidity calculation\n\n        Parameters\n        ----------\n        temperature : np.array\n            Temperature field (K)\n        specific_humidity : np.array\n            Specific humidity field (g.kg-1)\n        pressure : float\n            Pressure (Pa)\n\n        Returns\n        -------\n        np.array\n        \"\"\"\n        epsilon = 0.621981\n        p = pressure\n        q = specific_humidity\n        t = temperature\n\n        e = (p * q * (1.0 / epsilon)) / (1 + q * (1.0 / (epsilon) - 1))\n\n        es_w = 611.21 * np.exp(17.502 * (t - 273.16) / (t - 32.19))\n        es_i = 611.21 * np.exp(22.587 * (t - 273.16) / (t + 0.7))\n\n        alpha = np.clip((t - 250.16) / (273.16 - 250.16), 0, 1.2) ** 2\n        es = alpha * es_w + (1 - alpha) * es_i\n        rh = 100 * e / es\n\n        return rh"
      ]
    },
    {
      "cell_type": "markdown",
      "metadata": {},
      "source": [
        "### :py:func:`__call__` API\nThe call function is the main API of data source which return the Xarray data array\nwith the requested data. For this custom data source we intercept relative humidity\nvariables, replace them with temperature and specific humidity requests then calculate\nthe relative humidity from these fields. Note that the ARCO data source is handling\nthe remote complexity, we are just manipulating Numpy arrays\n\n"
      ]
    },
    {
      "cell_type": "markdown",
      "metadata": {},
      "source": [
        "### :py:func:`calc_relative_humdity`\nBased on the calculations ECMWF uses in their IFS numerical simulator which accounts\nfor estimating the water vapor and ice present in the atmosphere.\n\n<div class=\"alert alert-info\"><h4>Note</h4><p>See reference, equation 7.98 onwards:\n  https://www.ecmwf.int/en/elibrary/81370-ifs-documentation-cy48r1-part-iv-physical-processes</p></div>\n\n"
      ]
    },
    {
      "cell_type": "markdown",
      "metadata": {},
      "source": [
        "## Verification\nBefore plugging this into our workflow, let's quickly verify our data source is\nconsistent with when GFS provides for relative humidity.\n\n"
      ]
    },
    {
      "cell_type": "code",
      "execution_count": null,
      "metadata": {
        "collapsed": false
      },
      "outputs": [],
      "source": [
        "ds = CustomDataSource()\nda_custom = ds(time=datetime(2022, 1, 1, hour=0), variable=[\"r500\"])\n\nds_gfs = GFS()\nda_gfs = ds_gfs(time=datetime(2022, 1, 1, hour=0), variable=[\"r500\"])\n\nprint(da_custom)"
      ]
    },
    {
      "cell_type": "code",
      "execution_count": null,
      "metadata": {
        "collapsed": false
      },
      "outputs": [],
      "source": [
        "import cartopy.crs as ccrs\nimport matplotlib.pyplot as plt\n\nfig, ax = plt.subplots(\n    1,\n    2,\n    figsize=(10, 3),\n    subplot_kw={\"projection\": ccrs.Mollweide()},\n    constrained_layout=True,\n)\n\nax[0].imshow(\n    da_custom.sel(variable=\"r500\")[0], transform=ccrs.PlateCarree(), vmin=0, vmax=100\n)\nax[1].imshow(\n    da_gfs.sel(variable=\"r500\")[0], transform=ccrs.PlateCarree(), vmin=0, vmax=100\n)\n\nax[0].set_title(\"Custom ARCO\")\nax[1].set_title(\"GFS\")\nplt.suptitle(\"r500\", fontsize=24)\ncbar = plt.cm.ScalarMappable()\ncbar.set_array(da_custom.sel(variable=\"r500\")[0])\ncbar.set_clim(0, 100)\ncbar = fig.colorbar(cbar, ax=ax[-1], orientation=\"vertical\", shrink=0.8)\n\nplt.savefig(\"outputs/custom_datasource_gfs_versus_custom.jpg\")"
      ]
    },
    {
      "cell_type": "markdown",
      "metadata": {},
      "source": [
        "## Execute Workflow\nWe will use this custom data source to run deterministic inference with a model that\nrequires relative humidity. :mod:`earth2studio.models.px.FCN` is one such model. Since\nwe are using ARCO, we can run inference for a time quite far back in time.\n\nLet's instantiate the components needed.\n\n- Prognostic Model: Use the built in FourCastNet Model :py:class:`earth2studio.models.px.FCN`.\n- Datasource: Custom data source above\n- IO Backend: Save the outputs into a Zarr store :py:class:`earth2studio.io.ZarrBackend`.\n\n"
      ]
    },
    {
      "cell_type": "code",
      "execution_count": null,
      "metadata": {
        "collapsed": false
      },
      "outputs": [],
      "source": [
        "from dotenv import load_dotenv\n\nload_dotenv()  # TODO: make common example prep function\n\nimport earth2studio.run as run\nfrom earth2studio.io import ZarrBackend\nfrom earth2studio.models.px import FCN\n\npackage = FCN.load_default_package()\nmodel = FCN.load_model(package)\n\n# Create the data source\ndata = CustomDataSource()\n\n# Create the IO handler, store in memory\nio = ZarrBackend()\n\nnsteps = 4\nio = run.deterministic([\"1993-04-05\"], nsteps, model, data, io)\n\nprint(io.root.tree())"
      ]
    },
    {
      "cell_type": "markdown",
      "metadata": {},
      "source": [
        "## Post Processing\nTo confirm that our model is working as expected, we will plot the total column water\nvapor field for a few time-steps.\n\n"
      ]
    },
    {
      "cell_type": "code",
      "execution_count": null,
      "metadata": {
        "collapsed": false
      },
      "outputs": [],
      "source": [
        "forecast = \"1993-04-05\"\nvariable = \"tcwv\"\n\nplt.close(\"all\")\n\n# Create a figure and axes with the specified projection\nfig, ax = plt.subplots(2, 2, figsize=(6, 4))\n\n# Plot tcwv every 6 hours\nax[0, 0].imshow(io[variable][0, 0], vmin=0, vmax=80, cmap=\"magma\")\nax[0, 1].imshow(io[variable][0, 1], vmin=0, vmax=80, cmap=\"magma\")\nax[1, 0].imshow(io[variable][0, 2], vmin=0, vmax=80, cmap=\"magma\")\nax[1, 1].imshow(io[variable][0, 3], vmin=0, vmax=80, cmap=\"magma\")\n\n# Set title\nplt.suptitle(f\"{variable} - {forecast}\")\ntimes = io[\"lead_time\"].astype(\"timedelta64[h]\").astype(int)\nax[0, 0].set_title(f\"Lead time: {times[0]}hrs\")\nax[0, 1].set_title(f\"Lead time: {times[1]}hrs\")\nax[1, 0].set_title(f\"Lead time: {times[2]}hrs\")\nax[1, 1].set_title(f\"Lead time: {times[3]}hrs\")\n\nplt.savefig(\"outputs/custom_datasource_prediction.jpg\", bbox_inches=\"tight\")"
      ]
    }
  ],
  "metadata": {
    "kernelspec": {
      "display_name": "Python 3",
      "language": "python",
      "name": "python3"
    },
    "language_info": {
      "codemirror_mode": {
        "name": "ipython",
        "version": 3
      },
      "file_extension": ".py",
      "mimetype": "text/x-python",
      "name": "python",
      "nbconvert_exporter": "python",
      "pygments_lexer": "ipython3",
      "version": "3.11.11"
    }
  },
  "nbformat": 4,
  "nbformat_minor": 0
}