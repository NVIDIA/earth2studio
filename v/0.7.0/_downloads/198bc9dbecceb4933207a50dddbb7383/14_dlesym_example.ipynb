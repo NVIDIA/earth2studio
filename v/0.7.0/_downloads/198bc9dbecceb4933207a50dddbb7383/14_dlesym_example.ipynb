{
  "cells": [
    {
      "cell_type": "markdown",
      "metadata": {},
      "source": [
        "\n# Running DLESyM Inference\n\nBasic deterministic inference workflow for the DLESyM model.\n\nThis example will demonstrate how to run a simple inference workflow with the\nDLESyM model, which differs from other prognostic models in earth2studio.\nDLESyM performs global earth system modeling, including atmosphere and ocean\ncomponents which evolve on different timescales (different temporal resolution).\nInternally, the model uses a HEALPix nside=64 (approximately 1 degree) resolution\ngrid for the physical variables of interest. The model also uses some derived input\nvariables which are not provided by standard data sources but can be computed\nfrom the standard variables.\n\nIn this example you will learn:\n\n- How to instantiate the DLESyM model\n- How to use the model API to generate a forecast\n- How to use the output selection and regridding methods to select appropriate data\n- How to use the DLESyMLatLon model with earth2studio workflows\n"
      ]
    },
    {
      "cell_type": "markdown",
      "metadata": {},
      "source": [
        "## Set Up\nThe first step is fetching appropriate input data for the model. The ERA5 data sources\nin earth2studio provide data on the lat/lon grid, so have two options:\n\n- Use the :py:class:`earth2studio.models.px.DLESyMLatLon` model. This version of DLESyM\n  accepts inputs on the lat/lon grid and regrids them to the HEALPix grid internally,\n  before returning the output regridded back to the lat/lon grid. This is the\n  recommended approach for most users as it can be used directly with earth2studio\n  data sources and workflows, since it performs regridding and pre-processing\n  internally.\n- Use the :py:class:`earth2studio.models.px.DLESyM` model, and handle the regridding of\n  input lat/lon data ourselves. Since the model uses some derived variables which\n  are not provided by the data source, we would also need to prepare these derived\n  variables ourselves.\n\nLet's load both of these models and inspect the expected input coordinates for each.\nAlso note the input and output variable set for each model.\n\n"
      ]
    },
    {
      "cell_type": "code",
      "execution_count": null,
      "metadata": {
        "collapsed": false
      },
      "outputs": [],
      "source": [
        "import os\n\nos.makedirs(\"outputs\", exist_ok=True)\nfrom dotenv import load_dotenv\n\nload_dotenv()  # TODO: make common example prep function\nimport numpy as np\nimport torch\n\nfrom earth2studio.data import ARCO\nfrom earth2studio.data.utils import fetch_data\nfrom earth2studio.models.px.dlesym import DLESyM, DLESyMLatLon\n\ndevice = \"cpu\" if not torch.cuda.is_available() else \"cuda\"\n\n# Create the data source\ndata = ARCO()\n\n# Load the default model package which downloads the check point from NGC\n# We will instantiate both versions of the model to demonstrate usage of each.\npackage = DLESyMLatLon.load_default_package()\nmodel_ll = DLESyMLatLon.load_model(package).to(device)\npackage = DLESyM.load_default_package()\nmodel_hpx = DLESyM.load_model(package).to(device)\n\nin_coords_ll = model_ll.input_coords()\nin_coords_hpx = model_hpx.input_coords()\nprint(\n    \"DLESyM LatLon input coord shapes: \",\n    [(k, v.shape) for k, v in in_coords_ll.items()],\n)\nprint(\n    \"DLESyM HPX input coord shapes: \", [(k, v.shape) for k, v in in_coords_hpx.items()]\n)\nprint(\"Lat-lon input variable names: \", in_coords_ll[\"variable\"])\nprint(\n    \"Lat-lon output variable names: \", model_ll.output_coords(in_coords_ll)[\"variable\"]\n)\nprint(\"HEALPix input variable names: \", in_coords_hpx[\"variable\"])\nprint(\n    \"HEALPix output variable names: \",\n    model_hpx.output_coords(in_coords_hpx)[\"variable\"],\n)"
      ]
    },
    {
      "cell_type": "markdown",
      "metadata": {},
      "source": [
        "## Making Predictions, Regridding, and Selecting Outputs\nLet's now pull some example data and make predictions with the model. As the\ndata source provides lat/lon data, we can use the :py:class:`earth2studio.models.px.DLESyMLatLon` model.\n\nIn addition, we demonstrate how to use the regridding utilities provided by\n`DLESyMLatLon` to regrid onto the HEALPix grid. The :py:class:`earth2studio.models.px.DLESyM`\nmodel can then be used directly with the HEALPix data.\n\nFinally, a key aspect of the DLESyM model is that it makes predictions for the atmosphere\nand ocean components at different timesteps, because the atmosphere is faster-evolving\nthan the ocean. The atmosphere is predicted every 6 hours, while the ocean is only\npredicted every 48 hours. Thus, not all output lead times are valid for the ocean\ncomponent. For convenience, we can use a method that selects only the valid outputs\nfor each of the atmosphere and ocean components.\n\n"
      ]
    },
    {
      "cell_type": "code",
      "execution_count": null,
      "metadata": {
        "collapsed": false
      },
      "outputs": [],
      "source": [
        "ic_date = np.datetime64(\"2021-06-15\")\n\n# Fetch some example data\nx, coords = fetch_data(\n    source=data,\n    time=np.array([ic_date]),\n    variable=np.array(in_coords_ll[\"variable\"]),\n    lead_time=in_coords_ll[\"lead_time\"],\n    device=device,\n)\n\n# Can call the `DLESyMLatLon` model directly with the input lat/lon data\ny, y_coords = model_ll(x, coords)\n\n# Or, we can use the pre-processing and regridding utilities to regrid the data onto\n# the HEALPix grid, and then run directly with `DLESyM`, which expects HEALPix data\nx_prep, coords_prep = model_ll._prepare_derived_variables(x, coords)\nx_hpx, coords_hpx = model_ll.to_hpx(x_prep), model_ll.coords_to_hpx(coords_prep)\ny_hpx, y_coords_hpx = model_hpx(x_hpx, coords_hpx)\n\n# Retrieve the valid outputs for atmos/ocean components from the predictions\ny_atmos, y_atmos_coords = model_ll.retrieve_valid_atmos_outputs(y, y_coords)\ny_ocean, y_ocean_coords = model_ll.retrieve_valid_ocean_outputs(y, y_coords)\n\nprint(\n    \"Atmosphere outputs (variables, lead_time [hrs]):\",\n    y_atmos_coords[\"variable\"],\n    y_atmos_coords[\"lead_time\"].astype(\"timedelta64[h]\"),\n)\nprint(\n    \"Ocean outputs (variables, lead_time [hrs]):\",\n    y_ocean_coords[\"variable\"],\n    y_ocean_coords[\"lead_time\"].astype(\"timedelta64[h]\"),\n)"
      ]
    },
    {
      "cell_type": "markdown",
      "metadata": {},
      "source": [
        "## Model Iteration for Longer Forecasts\nSimilar to other models in earth2studio, we can use the model iterator to loop\nover forecasted outputs. A single step of the DLESyM model produces predictions\nover 4 days (96 hours), so to make a sub-seasonal forecast we can take 15 steps for\na total of 60 days.\n\n"
      ]
    },
    {
      "cell_type": "code",
      "execution_count": null,
      "metadata": {
        "collapsed": false
      },
      "outputs": [],
      "source": [
        "n_steps = 16\nmodel_iter_ll = model_ll.create_iterator(x, coords)\n\nfor i in range(n_steps):\n    x, x_coords = next(model_iter_ll)\n    if i > 0:  # Don't retrieve the first step as it is the initial condition\n        x_atmos, x_atmos_coords = model_ll.retrieve_valid_atmos_outputs(x, x_coords)\n        x_ocean, x_ocean_coords = model_ll.retrieve_valid_ocean_outputs(x, x_coords)\n\nprint(f\"Completed forecast with {n_steps} steps\")"
      ]
    },
    {
      "cell_type": "markdown",
      "metadata": {},
      "source": [
        "## Using Built-in Deterministic Workflow\nBecause the `DLESyMLatLon` model permits usage of data coming directly from an\nearth2studio data source, we can use the built-in deterministic workflow to generate\na forecast as well. The only caveat is we need to explitcitly specify the output\nlead time coordinates that will be generated by the model, since it has different\ninput and output lead time dimensions.\n%%\n\n"
      ]
    },
    {
      "cell_type": "code",
      "execution_count": null,
      "metadata": {
        "collapsed": false
      },
      "outputs": [],
      "source": [
        "import earth2studio.run as run\nfrom earth2studio.io import KVBackend\n\nio = KVBackend()\n\noutput_coords = model_ll.output_coords(coords)\ninp_lead_time = model_ll.input_coords()[\"lead_time\"]\nout_lead_times = [\n    output_coords[\"lead_time\"] + output_coords[\"lead_time\"][-1] * i\n    for i in range(n_steps)\n]\noutput_coords[\"lead_time\"] = np.concatenate([inp_lead_time, *out_lead_times])\nio = run.deterministic(\n    [ic_date], n_steps, model_ll, data, io, output_coords=output_coords\n)\n\nds = io.to_xarray()\nprint(ds)"
      ]
    },
    {
      "cell_type": "markdown",
      "metadata": {},
      "source": [
        "## Plotting the Outputs\nLet's plot some of the forecasted outputs for the atmosphere and ocean components.\n\n"
      ]
    },
    {
      "cell_type": "code",
      "execution_count": null,
      "metadata": {
        "collapsed": false
      },
      "outputs": [],
      "source": [
        "import cartopy.crs as ccrs\nimport cartopy.feature as cfeature\nimport matplotlib.pyplot as plt\n\n# lat = x_atmos_coords[\"lat\"]\n# lon = x_atmos_coords[\"lon\"]\natmos_var, atmos_units = \"ws10m\", \"m/s\"\nocean_var, ocean_units = \"sst\", \"K\"\n# atmos_var_idx = list(x_atmos_coords[\"variable\"]).index(atmos_var)\n# ocean_var_idx = list(x_ocean_coords[\"variable\"]).index(ocean_var)\nlead_time = ds.lead_time.values[-1]\n\nplt.close(\"all\")\n# Create a Robinson projection\nprojection = ccrs.Robinson()\n\n# Create a figure and axes with the specified projection\nfig, axs = plt.subplots(1, 2, subplot_kw={\"projection\": projection}, figsize=(15, 6))\n\n# Plot the field using pcolormesh\nim = axs[0].pcolormesh(\n    ds.lon.values,\n    ds.lat.values,\n    ds[atmos_var].sel(time=ic_date, lead_time=lead_time).values,\n    transform=ccrs.PlateCarree(),\n    cmap=\"cividis\",\n)\n\n# Set title\naxs[0].set_title(\n    f\"Initialization: {ic_date} - Lead time: {lead_time.astype('timedelta64[h]')}\"\n)\n\n# Add coastlines and gridlines\naxs[0].coastlines()\naxs[0].gridlines()\n\ncbar = fig.colorbar(im, ax=axs[0], orientation=\"horizontal\", pad=0.05)\ncbar.set_label(f\"{atmos_var} [{atmos_units}]\")\n\n# Plot the ocean component\nim = axs[1].pcolormesh(\n    ds.lon.values,\n    ds.lat.values,\n    ds[ocean_var].sel(time=ic_date, lead_time=lead_time).values,\n    transform=ccrs.PlateCarree(),\n    cmap=\"Spectral_r\",\n)\n\naxs[1].set_title(\n    f\"Initialization: {ic_date} - Lead time: {lead_time.astype('timedelta64[h]')}\"\n)\n\n# Add coastlines and gridlines\naxs[1].add_feature(cfeature.LAND, color=\"grey\", zorder=100)\naxs[1].coastlines()\naxs[1].gridlines()\n\ncbar = fig.colorbar(im, ax=axs[1], orientation=\"horizontal\", pad=0.05)\ncbar.set_label(f\"{ocean_var} [{ocean_units}]\")\n\nplt.tight_layout()\nplt.savefig(\"outputs/14_ws10m_sst_prediction.png\")"
      ]
    }
  ],
  "metadata": {
    "kernelspec": {
      "display_name": "Python 3",
      "language": "python",
      "name": "python3"
    },
    "language_info": {
      "codemirror_mode": {
        "name": "ipython",
        "version": 3
      },
      "file_extension": ".py",
      "mimetype": "text/x-python",
      "name": "python",
      "nbconvert_exporter": "python",
      "pygments_lexer": "ipython3",
      "version": "3.12.3"
    }
  },
  "nbformat": 4,
  "nbformat_minor": 0
}