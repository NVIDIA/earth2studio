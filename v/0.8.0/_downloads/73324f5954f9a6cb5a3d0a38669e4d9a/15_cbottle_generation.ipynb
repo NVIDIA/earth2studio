{
  "cells": [
    {
      "cell_type": "markdown",
      "metadata": {},
      "source": [
        "\n# CBottle Data Generation and Infilling\n\nClimate in a Bottle (cBottle) inference workflows for global weather data synthesis.\n\nThis example will demonstrate the cBottle diffusion model data source and infilling\ndiagnostic model for generating global climate and weather data. Both the cBottle data\nsource and infilling diagnostic use the same diffusion model but the sampling procedure\nis different enabling two unique modes of interaction.\n\nFor more information on cBottle see:\n\n- https://arxiv.org/abs/2505.06474v1\n\nIn this example you will learn:\n\n- Generating synthetic climate data with cBottle data source\n- Instantiating cBottle infill diagnostic model\n- Creating a simple infilling inference workflow\n"
      ]
    },
    {
      "cell_type": "markdown",
      "metadata": {},
      "source": [
        "## Set Up\nFor this example we will use the cBottle data source and infill diagnostic. Unlike\nother data sources the cBottle3D data source needs to be loaded similar to a\nprognostic or diagnostic model.\n\n"
      ]
    },
    {
      "cell_type": "markdown",
      "metadata": {},
      "source": [
        "Thus, we need the following:\n\n- Datasource: Generate data from the CBottle3D data api :py:class:`earth2studio.data.CBottle3D`.\n- Datasource: Pull data from the WeatherBench2 data api :py:class:`earth2studio.data.WB2ERA5`.\n- Diagnostic Model: Use the built in CBottle Infill Model :py:class:`earth2studio.models.dx.CBottleInfill`.\n\n"
      ]
    },
    {
      "cell_type": "code",
      "execution_count": null,
      "metadata": {
        "collapsed": false
      },
      "outputs": [],
      "source": [
        "import os\n\nos.makedirs(\"outputs\", exist_ok=True)\nfrom dotenv import load_dotenv\n\nload_dotenv()  # TODO: make common example prep function\n\nimport torch\n\nfrom earth2studio.data import WB2ERA5, CBottle3D\nfrom earth2studio.models.dx import CBottleInfill\n\n# Load the default model package which downloads the check point from NGC\npackage = CBottle3D.load_default_package()\ncbottle_ds = CBottle3D.load_model(package)\n# This is an AI data source, so also move it to device\ndevice = torch.device(\"cuda\" if torch.cuda.is_available() else \"cpu\")\ncbottle_ds = cbottle_ds.to(device)\n\n# Create the ground truth data source\nera5_ds = WB2ERA5()"
      ]
    },
    {
      "cell_type": "markdown",
      "metadata": {},
      "source": [
        "## Generating Synthetic Weather Data\nOnce loaded, generating data from cBottle is as easy as any other data source.\nUnder the hood the model is conditioned on the timestamp requested as well as a\nmid-month SST field which is internally handle for users but limits the range of the\ndata source to years between 1970 and 2022.\n\nNote that this diffusion model is stochastic, so querying the same timestamp will\ngenerate different fields that are reflective of the requested time and SST state.\nOne can use `set_seed` for reproducibility.\n\n"
      ]
    },
    {
      "cell_type": "code",
      "execution_count": null,
      "metadata": {
        "collapsed": false
      },
      "outputs": [],
      "source": [
        "from datetime import datetime\n\nn_samples = 5\ntimestamp = datetime(2022, 9, 5)\n\n# Fetch the ground truth\nera5_da = era5_ds([timestamp], [\"msl\", \"tcwv\"])\n# Generate some samples from cBottle\ncbottle_da = cbottle_ds([timestamp for i in range(n_samples)], [\"msl\", \"tcwv\"])\n\nprint(era5_da)\nprint(cbottle_da)"
      ]
    },
    {
      "cell_type": "markdown",
      "metadata": {},
      "source": [
        "## Post Processing CBottle Data\nLet's visualize this data to better understand what the cBottle data source is able to\nprovide.\nIt is clear that each sample is indeed unique, yet remains physically realizable.\nIn other words the cBottle data source can be used to create climates that\ndo not exist but could based on the conditional distribution learned from the training\ndata.\n\n"
      ]
    },
    {
      "cell_type": "code",
      "execution_count": null,
      "metadata": {
        "collapsed": false
      },
      "outputs": [],
      "source": [
        "import cartopy.crs as ccrs\nimport matplotlib.pyplot as plt\n\nvariable = \"tcwv\"\n\nplt.close(\"all\")\nprojection = ccrs.Orthographic(central_longitude=300.0)\n\n# Create a figure and axes with the specified projection\nfig, ax = plt.subplots(2, 3, subplot_kw={\"projection\": projection}, figsize=(11, 6))\nax = ax.flatten()\n\nax[0].pcolormesh(\n    era5_da.coords[\"lon\"],\n    era5_da.coords[\"lat\"],\n    era5_da.sel(variable=variable).isel(time=0),\n    transform=ccrs.PlateCarree(),\n    cmap=\"cubehelix\",\n)\nax[0].set_title(\"ERA5\")\n\nfor i in range(n_samples):\n    ax[i + 1].pcolormesh(\n        cbottle_da.coords[\"lon\"],\n        cbottle_da.coords[\"lat\"],\n        cbottle_da.sel(variable=variable).isel(time=i),\n        transform=ccrs.PlateCarree(),\n        cmap=\"cubehelix\",\n        vmin=0,\n        vmax=90,\n    )\n    ax[i + 1].set_title(f\"CBottle Sample {i}\")\n\nfor ax0 in ax:\n    ax0.coastlines()\n    ax0.gridlines()\n\nplt.tight_layout()\nplt.savefig(\"outputs/12_tcwv_cbottle_datasource.jpg\")"
      ]
    },
    {
      "cell_type": "markdown",
      "metadata": {},
      "source": [
        "## Variable Infilling with CBottleInfill Diagnostic\nNext lets look at using the same model but for variable infilling.\nCBottleInfill allows users to generate global weather fields like the data source but\ncondition it on a set of input fields that can be configured.\nThis means that this diagnostic is extremely flexible and can be used with all types\nof data sources and models.\n\nTo demonstrate this lets consider two instances of the infilling diagnostic with a\ndifferent set of inputs and then compare the resulting infilled variables.\nNote that the outputs of both configurations are the same size with the same\nvariables.\n\n"
      ]
    },
    {
      "cell_type": "code",
      "execution_count": null,
      "metadata": {
        "collapsed": false
      },
      "outputs": [],
      "source": [
        "import numpy as np\n\nfrom earth2studio.data.utils import fetch_data\n\n# Input variables\ninput_variables = [\"u10m\", \"v10m\"]\n\n# Load the default model package which downloads the check point from NGC\npackage = CBottleInfill.load_default_package()\nmodel = CBottleInfill.load_model(package, input_variables=input_variables)\nmodel = model.to(device)\n\nmodel.set_seed(0)\ntorch.manual_seed(0)\ntorch.cuda.manual_seed(0)\n\ntimes = np.array([timestamp] * n_samples, dtype=\"datetime64[ns]\")\nx, coords = fetch_data(era5_ds, times, input_variables, device=device)\noutput_0, output_coords = model(x, coords)\nprint(output_0.shape)"
      ]
    },
    {
      "cell_type": "markdown",
      "metadata": {},
      "source": [
        "Now repeat the process above but with an expanded set of variables.\nIn this instance we provide a lot more data to the model to condition it with more\ninformation.\n\n"
      ]
    },
    {
      "cell_type": "code",
      "execution_count": null,
      "metadata": {
        "collapsed": false
      },
      "outputs": [],
      "source": [
        "input_variables = [\n    \"u10m\",\n    \"v10m\",\n    \"t2m\",\n    \"msl\",\n    \"z50\",\n    \"u50\",\n    \"v50\",\n    \"z500\",\n    \"u500\",\n    \"v500\",\n    \"z1000\",\n    \"u1000\",\n    \"v1000\",\n]\n\n# Load the default model package which downloads the check point from NGC\npackage = CBottleInfill.load_default_package()\nmodel = CBottleInfill.load_model(package, input_variables=input_variables)\nmodel = model.to(device)\n\nmodel.set_seed(0)\ntorch.manual_seed(0)\ntorch.cuda.manual_seed(0)\n\nx, coords = fetch_data(era5_ds, times, input_variables, device=device)\noutput_1, output_coords = model(x, coords)\nprint(output_1.shape)"
      ]
    },
    {
      "cell_type": "markdown",
      "metadata": {},
      "source": [
        "## Post Processing CBottleInfill\nTo post process the results, we take a look at a infilled variable, total column water\nvapour.\nCompared to the samples from the CBottle3D, the results are much more aligned with\nthe ground truth since the infill model is sampling a conditional distribution.\nAdditionally, the model provided more variables is better aligned with the ground\ntruth due the additional information provided.\n\n"
      ]
    },
    {
      "cell_type": "code",
      "execution_count": null,
      "metadata": {
        "collapsed": false
      },
      "outputs": [],
      "source": [
        "variable = \"tcwv\"\nvar_idx = np.where(output_coords[\"variable\"] == \"tcwv\")[0][0]\nera5_data, _ = fetch_data(era5_ds, times[:1], [variable], device=device)\n\nplt.close(\"all\")\nprojection = ccrs.Mollweide(central_longitude=0)\n\n# Create a figure and axes with the specified projection\nfig, ax = plt.subplots(2, 3, subplot_kw={\"projection\": projection}, figsize=(10, 6))\n\n\ndef plot_contour(\n    ax0: plt.axes,\n    data: torch.Tensor,\n    cmap: str = \"jet\",\n    vrange: tuple[int, int] = (0, 90),\n) -> None:\n    \"\"\"Contour helper\"\"\"\n    ax0.contourf(\n        output_coords[\"lon\"],\n        output_coords[\"lat\"],\n        data.cpu(),\n        vmin=vrange[0],\n        vmax=vrange[1],\n        transform=ccrs.PlateCarree(),\n        levels=20,\n        cmap=cmap,\n    )\n    ax0.coastlines()\n    ax0.gridlines()\n\n\nplot_contour(ax[0, 0], era5_data[0, 0, 0])\nplot_contour(ax[0, 1], torch.mean(output_0[:, 0, var_idx], axis=0))\nplot_contour(ax[0, 2], torch.mean(output_1[:, 0, var_idx], axis=0))\nplot_contour(\n    ax[1, 1], torch.std(output_0[:, 0, var_idx], axis=0), cmap=\"inferno\", vrange=(0, 10)\n)\nplot_contour(\n    ax[1, 2], torch.std(output_1[:, 0, var_idx], axis=0), cmap=\"inferno\", vrange=(0, 10)\n)\n\nax[0, 0].set_title(\"ERA5\")\nax[0, 1].set_title(\"3 Input Variables Mean\")\nax[0, 2].set_title(\"13 Input Variables Mean\")\nax[1, 1].set_title(\"3 Input Variables Std\")\nax[1, 2].set_title(\"13 Input Variables Std\")\n\nplt.tight_layout()\nplt.savefig(\"outputs/12_tcwv_cbottle_infill.jpg\")"
      ]
    }
  ],
  "metadata": {
    "kernelspec": {
      "display_name": "Python 3",
      "language": "python",
      "name": "python3"
    },
    "language_info": {
      "codemirror_mode": {
        "name": "ipython",
        "version": 3
      },
      "file_extension": ".py",
      "mimetype": "text/x-python",
      "name": "python",
      "nbconvert_exporter": "python",
      "pygments_lexer": "ipython3",
      "version": "3.12.3"
    }
  },
  "nbformat": 4,
  "nbformat_minor": 0
}