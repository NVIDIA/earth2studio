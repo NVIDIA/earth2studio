{
  "cells": [
    {
      "cell_type": "markdown",
      "metadata": {},
      "source": [
        "\n# Running StormCast Inference\n\nBasic StormCast inference workflow.\n\nThis example will demonstrate how to run a simple inference workflow to generate a\nbasic determinstic forecast using StormCast. For details about the stormcast model,\nsee\n\n - https://arxiv.org/abs/2408.10958\n"
      ]
    },
    {
      "cell_type": "markdown",
      "metadata": {},
      "source": [
        "## Set Up\nAll workflows inside Earth2Studio require constructed components to be\nhanded to them. In this example, let's take a look at the most basic:\n:py:meth:`earth2studio.run.deterministic`.\n\n"
      ]
    },
    {
      "cell_type": "markdown",
      "metadata": {},
      "source": [
        ".. literalinclude:: ../../earth2studio/run.py\n   :language: python\n   :start-after: # sphinx - deterministic start\n   :end-before: # sphinx - deterministic end\n\n"
      ]
    },
    {
      "cell_type": "markdown",
      "metadata": {},
      "source": [
        "Thus, we need the following:\n\n- Prognostic Model: Use the built in StormCast Model :py:class:`earth2studio.models.px.StormCast`.\n- Datasource: Pull data from the HRRR data api :py:class:`earth2studio.data.HRRR`.\n- IO Backend: Let's save the outputs into a Zarr store :py:class:`earth2studio.io.ZarrBackend`.\n\nStormCast also requires a conditioning data source. We use a forecast data source here,\nGFS_FX :py:class:`earth2studio.data.GFS_FX`, but a non-forecast data source such as ARCO\ncould also be used with appropriate time stamps.\n\n"
      ]
    },
    {
      "cell_type": "code",
      "execution_count": null,
      "metadata": {
        "collapsed": false
      },
      "outputs": [],
      "source": [
        "from datetime import datetime, timedelta\n\nfrom loguru import logger\nfrom tqdm import tqdm\n\nlogger.remove()\nlogger.add(lambda msg: tqdm.write(msg, end=\"\"), colorize=True)\n\nimport os\n\nos.makedirs(\"outputs\", exist_ok=True)\nfrom dotenv import load_dotenv\n\nload_dotenv()  # TODO: make common example prep function\n\nfrom earth2studio.data import GFS_FX, HRRR\nfrom earth2studio.io import ZarrBackend\nfrom earth2studio.models.px import StormCast\n\n# Load the default model package which downloads the check point from NGC\npackage = StormCast.load_default_package()\nmodel = StormCast.load_model(package)\n\n# Create the data source\ndata = HRRR()\n\n# Create and set the conditioning data source\nconditioning_data_source = GFS_FX()\nmodel.conditioning_data_source = conditioning_data_source\n\n# Create the IO handler, store in memory\nio = ZarrBackend()"
      ]
    },
    {
      "cell_type": "markdown",
      "metadata": {},
      "source": [
        "## Execute the Workflow\nWith all components initialized, running the workflow is a single line of Python code.\nWorkflow will return the provided IO object back to the user, which can be used to\nthen post process. Some have additional APIs that can be handy for post-processing or\nsaving to file. Check the API docs for more information.\n\nFor the forecast we will predict for 4 hours\n\n"
      ]
    },
    {
      "cell_type": "code",
      "execution_count": null,
      "metadata": {
        "collapsed": false
      },
      "outputs": [],
      "source": [
        "import earth2studio.run as run\n\nnsteps = 4\ntoday = datetime.today() - timedelta(days=1)\ndate = today.isoformat().split(\"T\")[0]\nio = run.deterministic([date], nsteps, model, data, io)\n\nprint(io.root.tree())"
      ]
    },
    {
      "cell_type": "markdown",
      "metadata": {},
      "source": [
        "## Post Processing\nThe last step is to post process our results. Cartopy is a great library for plotting\nfields on projections of a sphere. Here we will just plot the temperature at 2 meters\n(t2m) 4 hours into the forecast.\n\nNotice that the Zarr IO function has additional APIs to interact with the stored data.\n\n"
      ]
    },
    {
      "cell_type": "code",
      "execution_count": null,
      "metadata": {
        "collapsed": false
      },
      "outputs": [],
      "source": [
        "import cartopy\nimport cartopy.crs as ccrs\nimport matplotlib.pyplot as plt\n\nforecast = f\"{date}\"\nvariable = \"t2m\"\nstep = 4  # lead time = 1 hr\n\nplt.close(\"all\")\n\n# Create a correct Lambert Conformal projection\nprojection = ccrs.LambertConformal(\n    central_longitude=262.5,\n    central_latitude=38.5,\n    standard_parallels=(38.5, 38.5),\n    globe=ccrs.Globe(semimajor_axis=6371229, semiminor_axis=6371229),\n)\n\n# Create a figure and axes with the specified projection\nfig, ax = plt.subplots(subplot_kw={\"projection\": projection}, figsize=(10, 6))\n\n# Plot the field using pcolormesh\nim = ax.pcolormesh(\n    io[\"lon\"][:],\n    io[\"lat\"][:],\n    io[variable][0, step],\n    transform=ccrs.PlateCarree(),\n    cmap=\"Spectral_r\",\n)\n\n# Set state lines\nax.add_feature(\n    cartopy.feature.STATES.with_scale(\"50m\"), linewidth=0.5, edgecolor=\"black\", zorder=2\n)\n\n# Set title\nax.set_title(f\"{forecast} - Lead time: {step}hrs\")\n\n# Add coastlines and gridlines\nax.coastlines()\nax.gridlines()\nplt.savefig(f\"outputs/09_{date}_t2m_prediction.jpg\")"
      ]
    }
  ],
  "metadata": {
    "kernelspec": {
      "display_name": "Python 3",
      "language": "python",
      "name": "python3"
    },
    "language_info": {
      "codemirror_mode": {
        "name": "ipython",
        "version": 3
      },
      "file_extension": ".py",
      "mimetype": "text/x-python",
      "name": "python",
      "nbconvert_exporter": "python",
      "pygments_lexer": "ipython3",
      "version": "3.11.11"
    }
  },
  "nbformat": 4,
  "nbformat_minor": 0
}