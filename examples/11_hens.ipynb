{
 "cells": [
  {
   "cell_type": "markdown",
   "metadata": {},
   "source": [
    "# HENS\n",
    "\n",
    "First, some background info on HENS and that there's more to explore\n",
    "in the folder...\n",
    "\n",
    "Quite a few configs to be tweaked, so we will set the most important ones here\n",
    "and then turn them into a config opbject afterwards.\n",
    "\n",
    "\n",
    "\n",
    "\n",
    "\n"
   ]
  },
  {
   "cell_type": "code",
   "execution_count": 1,
   "metadata": {},
   "outputs": [],
   "source": [
    "project = 'helene'\n",
    "\n",
    "start_times = [\"2024-09-24 12:00:00\"]\n",
    "nsteps = 3\n",
    "nensemble = 4\n",
    "batch_size = 2\n",
    "\n",
    "model_packages = '/media/mkoch/9ee63bf8-5a14-4872-86f2-7f16b120269b/hens_data/hens_checkpoints'\n",
    "max_num_checkpoints = 2\n"
   ]
  },
  {
   "cell_type": "markdown",
   "metadata": {},
   "source": [
    "next, fully configure the inference, do some imports and basic initialisations."
   ]
  },
  {
   "cell_type": "code",
   "execution_count": 2,
   "metadata": {},
   "outputs": [],
   "source": [
    "from omegaconf import DictConfig\n",
    "from physicsnemo.distributed import DistributedManager\n",
    "import sys\n",
    "import os\n",
    "from dotenv import load_dotenv\n",
    "\n",
    "sys.path.append(os.path.join(os.getcwd(), '11_hens'))\n",
    "load_dotenv()\n",
    "DistributedManager.initialize()\n",
    "\n",
    "# Create the configuration dictionary\n",
    "cfg = DictConfig({\n",
    "    'project': project,\n",
    "    'random_seed': 377778,\n",
    "    'start_times': start_times,\n",
    "    'nsteps': nsteps,          # number of forecasting steps\n",
    "    'nensemble': nensemble,       # ensemble size per checkpoint\n",
    "    'batch_size': batch_size,      # inference batch size\n",
    "\n",
    "    'forecast_model': {\n",
    "        'architecture': 'earth2studio.models.px.SFNO',   # forecast model class\n",
    "        'package': model_packages,\n",
    "        'max_num_checkpoints': max_num_checkpoints  # max number of checkpoints which will be used\n",
    "    },\n",
    "\n",
    "    'data_source': {\n",
    "        '_target_': 'earth2studio.data.GFS'  # data source class\n",
    "    },\n",
    "\n",
    "    'cyclone_tracking': {\n",
    "        'out_dir': './outputs'\n",
    "    },\n",
    "\n",
    "    'file_output': {\n",
    "        'path': './outputs',       # directory to which outfiles are written\n",
    "        'output_vars': [\"t2m\", 'u10m', 't850', 'q850', 'z500'],\n",
    "        'thread_io': False,      # write out in separate thread\n",
    "        'format': {              # io backend class\n",
    "            '_target_': 'earth2studio.io.NetCDF4Backend',\n",
    "            '_partial_': True,\n",
    "            'backend_kwargs': {\n",
    "                'mode': 'w',\n",
    "                'diskless': False,\n",
    "                'persist': False,\n",
    "                'chunks': {\n",
    "                    'ensemble': 1,\n",
    "                    'time': 1,\n",
    "                    'lead_time': 1\n",
    "                }\n",
    "            }\n",
    "        }\n",
    "    }\n",
    "})"
   ]
  },
  {
   "cell_type": "markdown",
   "metadata": {},
   "source": [
    "- why is batch generation progress not shown? To be fixed (cursor knows how, but it isn't clean)"
   ]
  },
  {
   "cell_type": "code",
   "execution_count": null,
   "metadata": {},
   "outputs": [],
   "source": [
    "\n",
    "import pandas as pd\n",
    "from ensemble_utilities import EnsembleBase\n",
    "from reproduce_utilities import create_base_seed_string\n",
    "\n",
    "from utilities import (\n",
    "    initialise,\n",
    "    initialise_output,\n",
    "    store_tracks,\n",
    "    update_model_dict,\n",
    "    write_to_disk,\n",
    ")\n",
    "\n",
    "(\n",
    "    ensemble_configs,\n",
    "    model_dict,\n",
    "    dx_model_dict,\n",
    "    cyclone_tracking,\n",
    "    data,\n",
    "    output_coords_dict,\n",
    "    base_random_seed,\n",
    "    all_tracks_dict,\n",
    "    writer_executor,\n",
    "    writer_threads\n",
    ") = initialise(cfg)\n"
   ]
  },
  {
   "cell_type": "markdown",
   "metadata": {},
   "source": [
    "ensemble configs include XYZ and represent blah. Let's have a look at the content and explore how many cases we will run, depending on number of ensemble members, batch size, number of checkpoints and initial conditions."
   ]
  },
  {
   "cell_type": "code",
   "execution_count": null,
   "metadata": {},
   "outputs": [],
   "source": [
    "for ii, (pkg, ic, ens_idx, batch_ids_produce) in enumerate(ensemble_configs):\n",
    "    print(f'ensemble config {ii+1} of {len(ensemble_configs)}:')\n",
    "    print(f'    package: {pkg}')\n",
    "    print(f'    initial condition: {ic}')\n",
    "    print(f'    ensemble index: {ens_idx}')\n",
    "    print(f'    batch ids to produce: {batch_ids_produce}\\n')\n"
   ]
  },
  {
   "cell_type": "markdown",
   "metadata": {},
   "source": [
    "model dict includes model and weights. Let's have a look at its contents. At each loop, it will be updated according to pkg in provided in the ensemble config."
   ]
  },
  {
   "cell_type": "code",
   "execution_count": null,
   "metadata": {},
   "outputs": [],
   "source": [
    "from termcolor import colored\n",
    "\n",
    "print(colored('The model class is:', attrs=['bold']))\n",
    "print(model_dict['class'], '\\n')\n",
    "\n",
    "print(colored('The model package (weights), which is currently loaded:', attrs=['bold']))\n",
    "print(model_dict['package'], '\\n')\n",
    "\n",
    "print(colored('The fully initialised model is provided in:', attrs=['bold']))\n",
    "print(model_dict['model'].parameters, '\\n')"
   ]
  },
  {
   "cell_type": "markdown",
   "metadata": {},
   "source": [
    "need to set up HENS perturbation."
   ]
  },
  {
   "cell_type": "code",
   "execution_count": 6,
   "metadata": {},
   "outputs": [],
   "source": [
    "# for perturbation\n",
    "skill_path = \"/media/mkoch/9ee63bf8-5a14-4872-86f2-7f16b120269b/hens_data/hens_checkpoints/d2m_sfno_linear_74chq_sc2_layers8_edim620_wstgl2-epoch70_seed16.nc\"\n",
    "noise_amplification = 0.35\n",
    "perturbed_var = [\"z500\"]\n",
    "integration_steps = 3\n",
    "\n",
    "\n",
    "\n",
    "from hens_perturbation import HENSPerturbation\n",
    "\n",
    "from numpy import ndarray, datetime64\n",
    "\n",
    "from earth2studio.data import DataSource\n",
    "from earth2studio.models.px import PrognosticModel\n",
    "from earth2studio.perturbation import Perturbation\n",
    "\n",
    "def initialise_perturbation(\n",
    "    model: PrognosticModel,\n",
    "    data: DataSource,\n",
    "    start_time: ndarray[datetime64],\n",
    ") -> Perturbation:\n",
    "    perturbation = HENSPerturbation(\n",
    "        model=model,\n",
    "        data=data,\n",
    "        start_time=start_time,\n",
    "        skill_path=skill_path,\n",
    "        noise_amplification=noise_amplification,\n",
    "        perturbed_var=perturbed_var,\n",
    "        integration_steps=integration_steps\n",
    "    )\n",
    "\n",
    "    return perturbation"
   ]
  },
  {
   "cell_type": "markdown",
   "metadata": {},
   "source": [
    "now bring everyhting together:\n",
    "- loop over ensemble configs\n",
    "- update model dict (if package has changed)\n",
    "- initialise output\n",
    "- initialise perturbation (as ICs might have changed)\n",
    "- run inference, where all ensemble members are produced\n",
    "- write to disk"
   ]
  },
  {
   "cell_type": "code",
   "execution_count": null,
   "metadata": {},
   "outputs": [],
   "source": [
    "\n",
    "# run forecasts\n",
    "for pkg, ic, ens_idx, batch_ids_produce in ensemble_configs:\n",
    "    # create seed base string required for reproducibility of individual batches\n",
    "    base_seed_string = create_base_seed_string(pkg, ic, base_random_seed)\n",
    "\n",
    "    # load new weights if necessary\n",
    "    model_dict = update_model_dict(model_dict, pkg)\n",
    "\n",
    "    io_dict = initialise_output(cfg, ic, model_dict, output_coords_dict)\n",
    "\n",
    "    perturbation = initialise_perturbation(\n",
    "        model=model_dict[\"model\"], data=data, start_time=ic\n",
    "    )\n",
    "\n",
    "    run_hens = EnsembleBase(\n",
    "        time=[ic],\n",
    "        nsteps=cfg.nsteps,\n",
    "        nensemble=cfg.nensemble,\n",
    "        prognostic=model_dict[\"model\"],\n",
    "        data=data,\n",
    "        io_dict=io_dict,\n",
    "        perturbation=perturbation,\n",
    "        output_coords_dict=output_coords_dict,\n",
    "        dx_model_dict=dx_model_dict,\n",
    "        cyclone_tracking=cyclone_tracking,\n",
    "        batch_size=cfg.batch_size,\n",
    "        ensemble_idx_base=ens_idx,\n",
    "        batch_ids_produce=batch_ids_produce,\n",
    "        base_seed_string=base_seed_string,\n",
    "    )\n",
    "    df_tracks_dict, io_dict = run_hens()\n",
    "    for k, v in df_tracks_dict.items():\n",
    "        v[\"ic\"] = pd.to_datetime(ic)\n",
    "        all_tracks_dict[k].append(v)\n",
    "\n",
    "    # if in-memory flavour of io backend was chosen, write content to disk now\n",
    "    if io_dict:\n",
    "        writer_threads, writer_executor = write_to_disk(\n",
    "            cfg,\n",
    "            ic,\n",
    "            model_dict,\n",
    "            io_dict,\n",
    "            writer_threads,\n",
    "            writer_executor,\n",
    "            ens_idx,\n",
    "        )\n",
    "\n",
    "# Output summaries of cyclone tracks if required\n",
    "if \"cyclone_tracking\" in cfg:\n",
    "    for area_name, all_tracks in all_tracks_dict.items():\n",
    "        store_tracks(area_name, all_tracks, cfg)\n",
    "\n",
    "if writer_executor is not None:\n",
    "    for thread in list(writer_threads):\n",
    "        thread.result()\n",
    "        writer_threads.remove(thread)\n",
    "    writer_executor.shutdown()"
   ]
  },
  {
   "cell_type": "markdown",
   "metadata": {},
   "source": [
    "Now, there should be a folder called \"output\" with all the forecasts.\n",
    "Also the tracks should be in there.\n",
    "\n",
    "plot tracks and fields.\n"
   ]
  }
 ],
 "metadata": {
  "kernelspec": {
   "display_name": "Python 3",
   "language": "python",
   "name": "python3"
  },
  "language_info": {
   "codemirror_mode": {
    "name": "ipython",
    "version": 3
   },
   "file_extension": ".py",
   "mimetype": "text/x-python",
   "name": "python",
   "nbconvert_exporter": "python",
   "pygments_lexer": "ipython3",
   "version": "3.10.16"
  }
 },
 "nbformat": 4,
 "nbformat_minor": 2
}
