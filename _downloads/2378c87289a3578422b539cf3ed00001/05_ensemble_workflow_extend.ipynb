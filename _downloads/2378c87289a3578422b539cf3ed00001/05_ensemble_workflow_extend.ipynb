{
  "cells": [
    {
      "cell_type": "markdown",
      "metadata": {},
      "source": [
        "\n# Single Variable Perturbation Method\n\nIntermediate ensemble inference using a custom perturbation method.\n\nThis example will demonstrate how to run a an ensemble inference workflow\nwith a custom perturbation method that only applies noise to a specific variable.\n\nIn this example you will learn:\n\n- How to extend an existing pertubration method\n- How to instantiate a built in prognostic model\n- Creating a data source and IO object\n- Running a simple built in workflow\n- Extend a built-in method using custom code.\n- Post-processing results\n"
      ]
    },
    {
      "cell_type": "markdown",
      "metadata": {},
      "source": [
        "## Set Up\nAll workflows inside Earth2Studio require constructed components to be\nhanded to them. In this example, we will use the built in ensemble workflow\n:py:meth:`earth2studio.run.ensemble`.\n\n"
      ]
    },
    {
      "cell_type": "markdown",
      "metadata": {},
      "source": [
        ".. literalinclude:: ../../earth2studio/run.py\n   :language: python\n   :lines: 116-156\n\n"
      ]
    },
    {
      "cell_type": "markdown",
      "metadata": {},
      "source": [
        "We need the following:\n\n- Prognostic Model: Use the built in DLWP model :py:class:`earth2studio.models.px.DLWP`.\n- perturbation_method: Extend the Spherical Gaussian Method :py:class:`earth2studio.perturbation.SphericalGaussian`.\n- Datasource: Pull data from the GFS data api :py:class:`earth2studio.data.GFS`.\n- IO Backend: Save the outputs into a Zarr store :py:class:`earth2studio.io.ZarrBackend`.\n\n"
      ]
    },
    {
      "cell_type": "code",
      "execution_count": null,
      "metadata": {
        "collapsed": false
      },
      "outputs": [],
      "source": [
        "from dotenv import load_dotenv\n\nload_dotenv()  # TODO: make common example prep function\n\nimport numpy as np\nimport torch\n\nfrom earth2studio.data import GFS\nfrom earth2studio.io import ZarrBackend\nfrom earth2studio.models.px import DLWP\nfrom earth2studio.perturbation import PerturbationMethod, SphericalGaussian\nfrom earth2studio.run import ensemble\nfrom earth2studio.utils.type import CoordSystem\n\n# Load the default model package which downloads the check point from NGC\npackage = DLWP.load_default_package()\nmodel = DLWP.load_model(package)\n\n# Create the data source\ndata = GFS()"
      ]
    },
    {
      "cell_type": "markdown",
      "metadata": {},
      "source": [
        "The perturbation method in `sphx_glr_examples_03_ensemble_workflow.py` is naive because it\napplies the same noise amplitude to every variable. We can create a custom wrapper\nthat only applies the perturbation method to a particular variable instead.\n\n"
      ]
    },
    {
      "cell_type": "code",
      "execution_count": null,
      "metadata": {
        "collapsed": false
      },
      "outputs": [],
      "source": [
        "class ApplyToVariable:\n    \"\"\"Apply a perturbation to only a particular variable.\"\"\"\n\n    def __init__(self, pm: PerturbationMethod, variable: str | list[str]):\n        self.pm = pm\n        if isinstance(variable, str):\n            variable = [variable]\n        self.variable = variable\n\n    @torch.inference_mode()\n    def __call__(\n        self,\n        x: torch.Tensor,\n        coords: CoordSystem,\n    ) -> tuple[torch.Tensor, CoordSystem]:\n        # Construct perturbation\n        dx, coords = self.pm(x, coords)\n        # Find variable in data\n        ind = np.in1d(coords[\"variable\"], self.variable)\n        dx[..., ~ind, :, :] = 0.0\n        return dx, coords\n\n\n# Generate a new noise amplitude that specifically targets 't2m' with a 1 K noise amplitude\navsg = ApplyToVariable(SphericalGaussian(noise_amplitude=1.0), \"t2m\")\n\n# Create the IO handler, store in memory\nchunks = {\"ensemble\": 1, \"time\": 1}\nio = ZarrBackend(file_name=\"outputs/04_ensemble_avsg.zarr\", chunks=chunks)"
      ]
    },
    {
      "cell_type": "markdown",
      "metadata": {},
      "source": [
        "## Execute the Workflow\nWith all components initialized, running the workflow is a single line of Python code.\nWorkflow will return the provided IO object back to the user, which can be used to\nthen post process. Some have additional APIs that can be handy for post-processing or\nsaving to file. Check the API docs for more information.\n\nFor the forecast we will predict for 10 steps (for FCN, this is 60 hours) with 8 ensemble\nmembers which will be ran in 2 batches with batch size 4.\n\n"
      ]
    },
    {
      "cell_type": "code",
      "execution_count": null,
      "metadata": {
        "collapsed": false
      },
      "outputs": [],
      "source": [
        "nsteps = 10\nnensemble = 8\nbatch_size = 4\nio = ensemble(\n    [\"2024-01-01\"],\n    nsteps,\n    nensemble,\n    model,\n    data,\n    io,\n    avsg,\n    batch_size=batch_size,\n    output_coords={\"variable\": np.array([\"t2m\", \"tcwv\"])},\n)"
      ]
    },
    {
      "cell_type": "markdown",
      "metadata": {},
      "source": [
        "## Post Processing\nThe last step is to post process our results.\n\nNotice that the Zarr IO function has additional APIs to interact with the stored data.\n\n"
      ]
    },
    {
      "cell_type": "code",
      "execution_count": null,
      "metadata": {
        "collapsed": false
      },
      "outputs": [],
      "source": [
        "import cartopy.crs as ccrs\nimport matplotlib.pyplot as plt\n\nforecast = \"2024-01-01\"\n\n\ndef plot_(axi, data, title, cmap):\n    \"\"\"Convenience function for plotting pcolormesh.\"\"\"\n    # Plot the field using pcolormesh\n    im = axi.pcolormesh(\n        io[\"lon\"][:],\n        io[\"lat\"][:],\n        data,\n        transform=ccrs.PlateCarree(),\n        cmap=cmap,\n    )\n    plt.colorbar(im, ax=axi, shrink=0.6, pad=0.04)\n    # Set title\n    axi.set_title(title)\n    # Add coastlines and gridlines\n    axi.coastlines()\n    axi.gridlines()\n\n\nfor variable, cmap in zip([\"t2m\", \"tcwv\"], [\"coolwarm\", \"Blues\"]):\n    step = 4  # lead time = 24 hrs\n\n    plt.close(\"all\")\n    # Create a Robinson projection\n    projection = ccrs.Robinson()\n\n    # Create a figure and axes with the specified projection\n    fig, (ax1, ax2, ax3) = plt.subplots(\n        nrows=1, ncols=3, subplot_kw={\"projection\": projection}, figsize=(16, 3)\n    )\n\n    plot_(\n        ax1,\n        io[variable][0, 0, step],\n        f\"{forecast} - Lead time: {6*step}hrs - Member: {0}\",\n        cmap,\n    )\n    plot_(\n        ax2,\n        io[variable][1, 0, step],\n        f\"{forecast} - Lead time: {6*step}hrs - Member: {1}\",\n        cmap,\n    )\n    plot_(\n        ax3,\n        np.std(io[variable][:, 0, step], axis=0),\n        f\"{forecast} - Lead time: {6*step}hrs - Std\",\n        cmap,\n    )\n\n    plt.savefig(f\"outputs/04_{forecast}_{variable}_{step}_ensemble.jpg\")"
      ]
    }
  ],
  "metadata": {
    "kernelspec": {
      "display_name": "Python 3",
      "language": "python",
      "name": "python3"
    },
    "language_info": {
      "codemirror_mode": {
        "name": "ipython",
        "version": 3
      },
      "file_extension": ".py",
      "mimetype": "text/x-python",
      "name": "python",
      "nbconvert_exporter": "python",
      "pygments_lexer": "ipython3",
      "version": "3.10.12"
    }
  },
  "nbformat": 4,
  "nbformat_minor": 0
}