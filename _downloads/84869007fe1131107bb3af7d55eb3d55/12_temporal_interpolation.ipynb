{
  "cells": [
    {
      "cell_type": "markdown",
      "metadata": {},
      "source": [
        "\n# Temporal Interpolation\n\nTemporal Interpolation inference using InterpModAFNO model.\n\nThis example demonstrates how to use the InterpModAFNO model to interpolate\nforecasts from a base model to a finer time resolution.\nMany of the existing prognostic models have a step size of 6 hours which may prove\ninsufficient for some applications.\nInterpModAFNO provides a AI driven method for getting hourly resolution given 6 hour\npredictions.\n\nIn this example you will learn:\n\n- How to load a base prognostic model\n- How to load the InterpModAFNO model\n- How to run the interpolation model\n- How to visualize the results\n"
      ]
    },
    {
      "cell_type": "markdown",
      "metadata": {},
      "source": [
        "## Set Up\nFirst, import the necessary modules and set up our environment and load the models.\nWe will use SFNO as the base prognostic model and the InterpModAFNO model to\ninterpolate its output to a finer time resolution.\nThe prognostic model must predict the needed variables in the interpolation model.\n\nThis example needs the following:\n\n- Interpolation Model: :py:class:`earth2studio.models.px.InterpModAFNO`.\n- Prognostic Base Model: Use SFNO model :py:class:`earth2studio.models.px.SFNO`.\n- Datasource: Pull data from the GFS data api :py:class:`earth2studio.data.GFS`.\n\n"
      ]
    },
    {
      "cell_type": "code",
      "execution_count": null,
      "metadata": {
        "collapsed": false
      },
      "outputs": [],
      "source": [
        "import os\n\nimport matplotlib.pyplot as plt\n\nfrom earth2studio.data import GFS\nfrom earth2studio.io import ZarrBackend\nfrom earth2studio.models.px import SFNO, InterpModAFNO\n\n# Create output directory\nos.makedirs(\"outputs\", exist_ok=True)\n\nsfno_package = SFNO.load_default_package()\nbase_model = SFNO.load_model(sfno_package)\n\n# Load the interpolation model\ninterp_package = InterpModAFNO.load_default_package()\ninterp_model = InterpModAFNO.load_model(interp_package)\ninterp_model.px_model = base_model  # Set the base model\n\n# Create the data source\ndata = GFS()\n\n# Create the IO handler\nio = ZarrBackend()"
      ]
    },
    {
      "cell_type": "markdown",
      "metadata": {},
      "source": [
        "## Run the Interpolation Model\nNow run the interpolation model to get forecasts at a finer time resolution.\nThe base model (SFNO) produces forecasts at 6-hour intervals, and the\ninterpolation model will interpolate to 1-hour intervals.\n\n"
      ]
    },
    {
      "cell_type": "code",
      "execution_count": null,
      "metadata": {
        "collapsed": false
      },
      "outputs": [],
      "source": [
        "# Define forecast parameters\nforecast_date = \"2024-01-01\"\nnsteps = 5  # Number of interpolated forecast steps\n\n# Run the model\nfrom earth2studio.run import deterministic\n\nio = deterministic([forecast_date], nsteps, interp_model, data, io)\n\nprint(io.root.tree())"
      ]
    },
    {
      "cell_type": "markdown",
      "metadata": {},
      "source": [
        "## Visualize Results\nLet's visualize the total column water vapour (tcwv) at each time step\nand save them as separate files.\n\n"
      ]
    },
    {
      "cell_type": "code",
      "execution_count": null,
      "metadata": {
        "collapsed": false
      },
      "outputs": [],
      "source": [
        "# Get the number of time steps\nn_steps = io[\"tcwv\"].shape[1]\n\n# Create a single figure with subplots\nfig, axs = plt.subplots(2, 3, figsize=(15, 6))\naxs = axs.ravel()\n\n# Create plots for each time step\nfor step in range(min([n_steps, 6])):\n    im = axs[step].imshow(\n        io[\"tcwv\"][0, step], cmap=\"twilight_shifted\", aspect=\"auto\", vmin=0, vmax=85\n    )\n    axs[step].set_title(f\"Water Vapour - Step: {step} hrs\")\n    fig.colorbar(im, ax=axs[step], label=\"kg/m^2\")\n\nplt.tight_layout()\n# Save the figure\nplt.savefig(\"outputs/12_tcwv_steps.jpg\")"
      ]
    }
  ],
  "metadata": {
    "kernelspec": {
      "display_name": "Python 3",
      "language": "python",
      "name": "python3"
    },
    "language_info": {
      "codemirror_mode": {
        "name": "ipython",
        "version": 3
      },
      "file_extension": ".py",
      "mimetype": "text/x-python",
      "name": "python",
      "nbconvert_exporter": "python",
      "pygments_lexer": "ipython3",
      "version": "3.12.3"
    }
  },
  "nbformat": 4,
  "nbformat_minor": 0
}