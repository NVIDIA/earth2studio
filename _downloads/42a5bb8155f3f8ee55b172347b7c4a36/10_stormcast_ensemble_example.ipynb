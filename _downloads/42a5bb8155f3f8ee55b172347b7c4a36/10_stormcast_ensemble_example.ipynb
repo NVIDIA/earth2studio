{
  "cells": [
    {
      "cell_type": "markdown",
      "metadata": {},
      "source": [
        "\n# Running StormCast Ensemble Inference\n\nEnsemble StormCast inference workflow.\n\nThis example will demonstrate how to run a simple inference workflow to generate a\nensemble forecast using StormCast. For details about the stormcast model,\nsee\n\n - https://arxiv.org/abs/2408.10958\n"
      ]
    },
    {
      "cell_type": "code",
      "execution_count": null,
      "metadata": {
        "collapsed": false
      },
      "outputs": [],
      "source": [
        "# /// script\n# dependencies = [\n#   \"earth2studio[data,stormcast] @ git+https://github.com/NVIDIA/earth2studio.git\",\n#   \"cartopy\",\n# ]\n# ///"
      ]
    },
    {
      "cell_type": "markdown",
      "metadata": {},
      "source": [
        "## Set Up\nAll workflows inside Earth2Studio require constructed components to be\nhanded to them. In this example, let's take a look at the most basic ensemble workflow:\n:py:meth:`earth2studio.run.ensemble`.\n\n"
      ]
    },
    {
      "cell_type": "markdown",
      "metadata": {},
      "source": [
        ".. literalinclude:: ../../earth2studio/run.py\n   :language: python\n   :start-after: # sphinx - ensemble start\n   :end-before: # sphinx - ensemble end\n\n"
      ]
    },
    {
      "cell_type": "markdown",
      "metadata": {},
      "source": [
        "Thus, we need the following:\n\n- Prognostic Model: Use the built in StormCast Model :py:class:`earth2studio.models.px.StormCast`.\n- perturbation_method: Use the Zero Method :py:class:`earth2studio.perturbation.Zero`. We will not\n   perturb the initial data because StormCast has stochastic generation of  ensemble members.\n- Datasource: Pull data from the HRRR data api :py:class:`earth2studio.data.HRRR`.\n- IO Backend: Let's save the outputs into a Zarr store :py:class:`earth2studio.io.ZarrBackend`.\n\nStormCast also requires a conditioning data source. We use a forecast data source here,\nARCO :py:class:`earth2studio.data.ARCO`, but a forecast data source such as GFS_FX\ncould also be used with appropriate time stamps.\n\n"
      ]
    },
    {
      "cell_type": "code",
      "execution_count": null,
      "metadata": {
        "collapsed": false
      },
      "outputs": [],
      "source": [
        "import numpy as np\nfrom loguru import logger\nfrom tqdm import tqdm\n\nlogger.remove()\nlogger.add(lambda msg: tqdm.write(msg, end=\"\"), colorize=True)\n\nimport os\n\nos.makedirs(\"outputs\", exist_ok=True)\nfrom dotenv import load_dotenv\n\nload_dotenv()  # TODO: make common example prep function\n\nfrom earth2studio.data import ARCO, HRRR\nfrom earth2studio.io import ZarrBackend\nfrom earth2studio.models.px import StormCast\nfrom earth2studio.perturbation import Zero\n\n# Create and set the conditioning data source\nconditioning_data_source = ARCO()\n\n# Load the default model package which downloads the check point from NGC\npackage = StormCast.load_default_package()\nmodel = StormCast.load_model(package, conditioning_data_source=conditioning_data_source)\n\n# Instantiate the (Zero) perturbation method\nz = Zero()\n\n# Create the data source\ndata = HRRR()\n\n# Create the IO handler, store in memory\nio = ZarrBackend()"
      ]
    },
    {
      "cell_type": "markdown",
      "metadata": {},
      "source": [
        "## Execute the Workflow\nWith all components initialized, running the workflow is a single line of Python code.\nWorkflow will return the provided IO object back to the user, which can be used to\nthen post process. Some have additional APIs that can be handy for post-processing or\nsaving to file. Check the API docs for more information.\n\nFor the forecast we will predict for 4 hours\n\n"
      ]
    },
    {
      "cell_type": "code",
      "execution_count": null,
      "metadata": {
        "collapsed": false
      },
      "outputs": [],
      "source": [
        "import earth2studio.run as run\n\nnsteps = 4\nnensemble = 4\nbatch_size = 2\n\ndate = \"2022-11-04T21:00:00\"\nio = run.ensemble(\n    [date],\n    nsteps,\n    nensemble,\n    model,\n    data,\n    io,\n    z,\n    batch_size=batch_size,\n    output_coords={\"variable\": np.array([\"t2m\", \"refc\"])},\n)\n\nprint(io.root.tree())"
      ]
    },
    {
      "cell_type": "markdown",
      "metadata": {},
      "source": [
        "## Post Processing\nThe last step is to post process our results. Cartopy is a great library for plotting\nfields on projections of a sphere. Start with plotting the reflectivity.\n\nNotice that the Zarr IO function has additional APIs to interact with the stored data.\n\n"
      ]
    },
    {
      "cell_type": "code",
      "execution_count": null,
      "metadata": {
        "collapsed": false
      },
      "outputs": [],
      "source": [
        "import cartopy\nimport cartopy.crs as ccrs\nimport matplotlib.pyplot as plt\n\nforecast = f\"{date}\"\nstep = nsteps  # 4 hours, since lead_time = 1 hr\n\n\n# Get the lat lon arrays from the model\ndef plot_(axi, data, title, cmap, vmin=None, vmax=None):\n    \"\"\"Convenience function for plotting pcolormesh.\"\"\"\n    # Plot the field using pcolormesh\n    im = axi.pcolormesh(\n        model.lon,\n        model.lat,\n        data,\n        transform=ccrs.PlateCarree(),\n        cmap=cmap,\n        vmin=vmin,\n        vmax=vmax,\n    )\n    plt.colorbar(im, ax=axi, shrink=0.6, pad=0.04)\n    # Set title\n    axi.set_title(title)\n\n    # Add coastlines and gridlines\n    axi.coastlines()\n    axi.gridlines()\n\n    # Set state lines\n    axi.add_feature(\n        cartopy.feature.STATES.with_scale(\"50m\"),\n        linewidth=0.5,\n        edgecolor=\"black\",\n        zorder=2,\n    )\n\n\n# Create a correct Lambert Conformal projection\nprojection = ccrs.LambertConformal(\n    central_longitude=262.5,\n    central_latitude=38.5,\n    standard_parallels=(38.5, 38.5),\n    globe=ccrs.Globe(semimajor_axis=6371229, semiminor_axis=6371229),\n)\n\n# Plot refc\nvariable = \"refc\"\ncmap = \"gist_ncar\"\nx = io[variable]\n\nplt.close(\"all\")\nfig, (ax1, ax2, ax3) = plt.subplots(\n    nrows=1, ncols=3, subplot_kw={\"projection\": projection}, figsize=(20, 6)\n)\nplot_(\n    ax1,\n    np.where(x[0, 0, step] > 0, x[0, 0, step], np.nan),\n    f\"{forecast} - Lead time: {step}hrs - Member: {0}\",\n    cmap,\n    vmin=0,\n    vmax=60,\n)\nplot_(\n    ax2,\n    np.where(x[1, 0, step] > 0, x[1, 0, step], np.nan),\n    f\"{forecast} - Lead time: {step}hrs - Member: {1}\",\n    cmap,\n    vmin=0,\n    vmax=60,\n)\nplot_(\n    ax3,\n    np.where(x[:, 0, step].mean(axis=0) > 0, x[:, 0, step].std(axis=0), np.nan),\n    f\"{forecast} - Lead time: {step}hrs - Std\",\n    cmap,\n    vmin=0,\n    vmax=60,\n)\nplt.savefig(f\"outputs/10_{date}_{variable}_{step}_ensemble.jpg\")"
      ]
    },
    {
      "cell_type": "markdown",
      "metadata": {},
      "source": [
        "Lets also plot the surface temperature field.\n\n"
      ]
    },
    {
      "cell_type": "markdown",
      "metadata": {},
      "source": [
        "Plot 2-meter temperature\n\n"
      ]
    },
    {
      "cell_type": "code",
      "execution_count": null,
      "metadata": {
        "collapsed": false
      },
      "outputs": [],
      "source": [
        "variable = \"t2m\"\ncmap = \"Spectral_r\"\nx = io[variable]\n\nplt.close(\"all\")\nfig, (ax1, ax2, ax3) = plt.subplots(\n    nrows=1, ncols=3, subplot_kw={\"projection\": projection}, figsize=(20, 6)\n)\nplot_(\n    ax1,\n    x[0, 0, step],\n    f\"{forecast} - Lead time: {step}hrs - Member: {0}\",\n    cmap,\n)\nplot_(\n    ax2,\n    io[variable][1, 0, step],\n    f\"{forecast} - Lead time: {step}hrs - Member: {1}\",\n    cmap,\n)\nplot_(\n    ax3,\n    x[:, 0, step].std(axis=0),\n    f\"{forecast} - Lead time: {step}hrs - Std\",\n    cmap,\n)\nplt.savefig(f\"outputs/10_{date}_{variable}_{step}_ensemble.jpg\")"
      ]
    }
  ],
  "metadata": {
    "kernelspec": {
      "display_name": "Python 3",
      "language": "python",
      "name": "python3"
    },
    "language_info": {
      "codemirror_mode": {
        "name": "ipython",
        "version": 3
      },
      "file_extension": ".py",
      "mimetype": "text/x-python",
      "name": "python",
      "nbconvert_exporter": "python",
      "pygments_lexer": "ipython3",
      "version": "3.12.3"
    }
  },
  "nbformat": 4,
  "nbformat_minor": 0
}