{
  "cells": [
    {
      "cell_type": "markdown",
      "metadata": {},
      "source": [
        "\n# Running Diagnostic Inference\n\nBasic prognostic + diagnostic inference workflow.\n\nThis example will demonstrate how to run a deterministic inference workflow that couples\na prognostic model with a diagnostic model. This diagnostic model will predict a new\natmospheric quantity from the predicted fields of the prognostic.\n\nIn this example you will learn:\n\n- How to instantiate a prognostic model\n- How to instantiate a diagnostic model\n- Creating a data source and IO object\n- Running the built in diagnostic workflow\n- Post-processing results\n"
      ]
    },
    {
      "cell_type": "markdown",
      "metadata": {},
      "source": [
        "## Set Up\nFor this example, the built in diagnostic workflow :py:meth:`earth2studio.run.diagnostic`\nwill be used.\n\n"
      ]
    },
    {
      "cell_type": "markdown",
      "metadata": {},
      "source": [
        ".. literalinclude:: ../../earth2studio/run.py\n   :language: python\n   :start-after: # sphinx - diagnostic start\n   :end-before: # sphinx - diagnostic end\n\n"
      ]
    },
    {
      "cell_type": "markdown",
      "metadata": {},
      "source": [
        "Thus, we need the following:\n\n- Prognostic Model: Use the built in FourCastNet Model :py:class:`earth2studio.models.px.FCN`.\n- Diagnostic Model: Use the built in precipitation AFNO model :py:class:`earth2studio.models.dx.PrecipitationAFNO`.\n- Datasource: Pull data from the GFS data api :py:class:`earth2studio.data.GFS`.\n- IO Backend: Save the outputs into a Zarr store :py:class:`earth2studio.io.ZarrBackend`.\n\n"
      ]
    },
    {
      "cell_type": "code",
      "execution_count": null,
      "metadata": {
        "collapsed": false
      },
      "outputs": [],
      "source": [
        "from dotenv import load_dotenv\n\nload_dotenv()  # TODO: make common example prep function\n\nfrom earth2studio.data import GFS\nfrom earth2studio.io import ZarrBackend\nfrom earth2studio.models.dx import PrecipitationAFNO\nfrom earth2studio.models.px import FCN\n\n# Load the default model package which downloads the check point from NGC\npackage = FCN.load_default_package()\nprognostic_model = FCN.load_model(package)\n\npackage = PrecipitationAFNO.load_default_package()\ndiagnostic_model = PrecipitationAFNO.load_model(package)\n\n# Create the data source\ndata = GFS()\n\n# Create the IO handler, store in memory\nio = ZarrBackend()"
      ]
    },
    {
      "cell_type": "markdown",
      "metadata": {},
      "source": [
        "## Execute the Workflow\nWith all components initialized, running the workflow is a single line of Python code.\nWorkflow will return the provided IO object back to the user, which can be used to\nthen post process. Some have additional APIs that can be handy for post-processing or\nsaving to file. Check the API docs for more information.\n\n"
      ]
    },
    {
      "cell_type": "code",
      "execution_count": null,
      "metadata": {
        "collapsed": false
      },
      "outputs": [],
      "source": [
        "import earth2studio.run as run\n\nnsteps = 8\nio = run.diagnostic(\n    [\"2021-06-01\"], nsteps, prognostic_model, diagnostic_model, data, io\n)\n\nprint(io.root.tree())"
      ]
    },
    {
      "cell_type": "markdown",
      "metadata": {},
      "source": [
        "## Post Processing\nThe last step is to plot the resulting predicted total precipitation. The power of\ndiagnostic models is that they allow the prediction of any variable from a pre-trained\nprognostic model.\n\n<div class=\"alert alert-info\"><h4>Note</h4><p>The built in workflow will only save the direct outputs of the diagnostic. In this\n  example only total precipitation is accessible for plotting. If you wish to save\n  outputs of both the prognostic and diagnostic, we recommend writing a custom\n  workflow.</p></div>\n\n"
      ]
    },
    {
      "cell_type": "code",
      "execution_count": null,
      "metadata": {
        "collapsed": false
      },
      "outputs": [],
      "source": [
        "import os\nfrom datetime import datetime\n\nos.makedirs(\"outputs\", exist_ok=True)\nimport cartopy.crs as ccrs\nimport matplotlib.pyplot as plt\nimport numpy as np\n\nforecast = datetime(2021, 6, 1)\nvariable = \"tp\"\nstep = 8  # lead time = 48 hrs\n\nplt.close(\"all\")\n# Create a Orthographic projection of USA\nprojection = ccrs.Orthographic(-100, 40)\n\n# Create a figure and axes with the specified projection\nfig, ax = plt.subplots(subplot_kw={\"projection\": projection}, figsize=(10, 6))\n\n# Plot the field using pcolormesh\nlevels = np.arange(0.0, 0.01, 0.001)\nim = ax.contourf(\n    io[\"lon\"][:],\n    io[\"lat\"][:],\n    io[variable][0, step],\n    levels,\n    transform=ccrs.PlateCarree(),\n    vmax=0.01,\n    vmin=0.00,\n    cmap=\"terrain\",\n)\n\n# Set title\nax.set_title(f\"{forecast.strftime('%Y-%m-%d')} - Lead time: {6*step}hrs\")\n\n# Add coastlines and gridlines6\nax.set_extent([220, 340, 20, 70])  # [lat min, lat max, lon min, lon max]\nax.coastlines()\nax.gridlines()\nplt.colorbar(\n    im, ax=ax, ticks=levels, shrink=0.75, pad=0.04, label=\"Total precipitation (m)\"\n)\n\nplt.savefig(\"outputs/02_tp_prediction.jpg\")"
      ]
    }
  ],
  "metadata": {
    "kernelspec": {
      "display_name": "Python 3",
      "language": "python",
      "name": "python3"
    },
    "language_info": {
      "codemirror_mode": {
        "name": "ipython",
        "version": 3
      },
      "file_extension": ".py",
      "mimetype": "text/x-python",
      "name": "python",
      "nbconvert_exporter": "python",
      "pygments_lexer": "ipython3",
      "version": "3.10.12"
    }
  },
  "nbformat": 4,
  "nbformat_minor": 0
}