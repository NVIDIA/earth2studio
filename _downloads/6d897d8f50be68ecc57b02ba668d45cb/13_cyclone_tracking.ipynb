{
  "cells": [
    {
      "cell_type": "markdown",
      "metadata": {},
      "source": [
        "\n# Tropical Cyclone Tracking\n\nTropical cyclone tracking with tracker diagnostic models.\n\nThis example will demonstrate how to use the tropical cyclone (TC) tracker diagnostic\nmodels for creating TC paths.\nThe diagnostics used here can be combined with other AI weather models and ensemble\nmethods to create complex inference workflow that enable downstream analysis.\n\n\nIn this example you will learn:\n\n- How to instantiate a TC tracker diagnostic\n- How to apply the TC tracker to data\n- How to couple the TC tracker to a prognostic model\n- Post-processing results\n"
      ]
    },
    {
      "cell_type": "markdown",
      "metadata": {},
      "source": [
        "## Set Up\nThis example will look at tracking cyclones during August 2009, a moment in time when\nmultiple tropical cyclones where impacting East Asia.\nEarth2Studio provides multiple variations of TC trackers such as :py:class:`earth2studio.models.dx.TCTrackerVitart`\nand :py:class:`earth2studio.models.dx.TCTrackerWuDuan`.\nThe difference being the underlying algorithm used to identify the center.\n\nThis example needs the following:\n\n- Diagostic Model: Use the TC tracker :py:class:`earth2studio.models.dx.TCTrackerWuDuan`.\n- Datasource: Pull data from the WB2 ERA5 data api :py:class:`earth2studio.data.WB2ERA5`.\n- Prognostic Model: Use the built in FourCastNet Model :py:class:`earth2studio.models.px.FCN`.\n\n"
      ]
    },
    {
      "cell_type": "code",
      "execution_count": null,
      "metadata": {
        "collapsed": false
      },
      "outputs": [],
      "source": [
        "import os\n\nos.makedirs(\"outputs\", exist_ok=True)\nfrom dotenv import load_dotenv\n\nload_dotenv()  # TODO: make common example prep function\n\nfrom datetime import datetime, timedelta\n\nimport torch\n\nfrom earth2studio.data import ARCO\nfrom earth2studio.models.dx import TCTrackerWuDuan\nfrom earth2studio.models.px import SFNO\n\n# Create tropical cyclone tracker\ntracker = TCTrackerWuDuan()\n\n# Load the default model package which downloads the check point from NGC\npackage = SFNO.load_default_package()\nprognostic = SFNO.load_model(package)\n\n# Create the data source\ndata = ARCO()\n\nnsteps = 16  # Number of steps to run the tracker for into future\nstart_time = datetime(2009, 8, 5)  # Start date for inference"
      ]
    },
    {
      "cell_type": "markdown",
      "metadata": {},
      "source": [
        "## Tracking Analysis Data\nBefore coupling the TC tracker with a prognostic model, we will first apply it to\nanalysis data.\nWe can fetch a small time range from the data source and provide it to our model.\n\nFor the forecast we will predict for two days (these will get executed as a batch) for\n20 forecast steps which is 5 days.\n\n"
      ]
    },
    {
      "cell_type": "code",
      "execution_count": null,
      "metadata": {
        "collapsed": false
      },
      "outputs": [],
      "source": [
        "from earth2studio.data import fetch_data, prep_data_array\n\ndevice = torch.device(\"cuda:0\" if torch.cuda.is_available() else \"cpu\")\ntracker = tracker.to(device)\n\n# Land fall occured August 25th 2017\ntimes = [start_time + timedelta(hours=6 * i) for i in range(nsteps + 1)]\nfor step, time in enumerate(times):\n    da = data(time, tracker.input_coords()[\"variable\"])\n    x, coords = prep_data_array(da, device=device)\n    output, output_coords = tracker(x, coords)\n    print(f\"Step {step}: ARCO tracks output shape {output.shape}\")\n\nera5_tracks = output.cpu()\ntorch.save(era5_tracks, \"era5.pt\")"
      ]
    },
    {
      "cell_type": "markdown",
      "metadata": {},
      "source": [
        "Notice that the output tensor grows as iterations are performed.\nThis is because the tracker builds tracks based on previous forward passes returning\na tensor with the dimensions [batch, path, step, variable].\nNot all paths are garenteed to be the same length or have the same start / stop time\nso any missing data is populated with a nan value.\n\nUp next lets also repeat the same process using the prognostic AI model.\nOne could use one of the build in workflows but here we will manually implement the\ninference loop.\n\n"
      ]
    },
    {
      "cell_type": "code",
      "execution_count": null,
      "metadata": {
        "collapsed": false
      },
      "outputs": [],
      "source": [
        "from tqdm import tqdm\n\nfrom earth2studio.utils.coords import map_coords\n\nprognostic = prognostic.to(device)\n# Reset the internal path buffer of tracker\ntracker.reset_path_buffer()\n\n# Load the initial state\nx, coords = fetch_data(\n    source=data,\n    time=[start_time],\n    variable=prognostic.input_coords()[\"variable\"],\n    lead_time=prognostic.input_coords()[\"lead_time\"],\n    device=device,\n)\n\n# Create prognostic iterator\nmodel = prognostic.create_iterator(x, coords)\nwith tqdm(total=nsteps + 1, desc=\"Running inference\") as pbar:\n    for step, (x, coords) in enumerate(model):\n        # Run tracker\n        x, coords = map_coords(x, coords, tracker.input_coords())\n        output, output_coords = tracker(x, coords)\n        # lets remove the lead time dim\n        output = output[:, 0]\n        print(f\"Step {step}: SFNO tracks output shape {output.shape}\")\n\n        pbar.update(1)\n        if step == nsteps:\n            break\n\nsfno_tracks = output.cpu()\ntorch.save(sfno_tracks, \"sfno.pt\")"
      ]
    },
    {
      "cell_type": "markdown",
      "metadata": {},
      "source": [
        "Note that before the inference loop of the AI model, the path buffer of the tracker\nwas reset which refreshes the tracker's path state starting from scratch.\nOtherwise, it would attempt to append to the existing tracks from the data source\nloop in the previous section.\n\nFinally we can plot the results to compare the track ground truths from ERA5 with\nthose produced by SFNO.\nRecall the outputs of :py:class:`earth2studio.models.dx.TCTrackerWuDuan` has the path\nID in the second dimension, thus that is what will determine the number of lines.\nThe lat/lon coords are the first two variables in the last dimension.\nLastly we just need to be mindful of the NaN filler values which can get easily\nmasked out and any \"path\" that isnt over 2 points long\n\n"
      ]
    },
    {
      "cell_type": "code",
      "execution_count": null,
      "metadata": {
        "collapsed": false
      },
      "outputs": [],
      "source": [
        "from datetime import datetime, timedelta\n\nimport cartopy.crs as ccrs\nimport cartopy.feature as cfeature\nimport matplotlib.patches as mpatches\nimport matplotlib.pyplot as plt\nimport numpy as np\n\n# Convert tracks from tensors to numpy arrays\nera5_paths = era5_tracks.numpy()\nsfno_paths = sfno_tracks.numpy()\n\n# Calculate end date\nend_time = start_time + timedelta(hours=6 * nsteps)\n\n# Create figure with cartopy projection\nplt.figure(figsize=(10, 8))\nprojection = ccrs.LambertConformal(\n    central_longitude=130.0, central_latitude=30.0, standard_parallels=(20.0, 40.0)\n)\nax = plt.axes(projection=projection)\n\n# Add map features\nax.add_feature(cfeature.COASTLINE)\nax.add_feature(cfeature.LAND, alpha=0.1)\nax.gridlines(draw_labels=True, alpha=0.6)\nax.set_extent([90, 170, 0, 50], crs=ccrs.PlateCarree())\n\nera5_cmap = plt.cm.autumn\nsfno_cmap = plt.cm.winter\n\nfor path in range(era5_paths.shape[1]):\n    # Get lat/lon coordinates, filtering out nans\n    lats = era5_paths[0, path, :, 0]\n    lons = era5_paths[0, path, :, 1]\n    mask = ~np.isnan(lats) & ~np.isnan(lons)\n    if mask.any() and len(lons[mask]) > 2:\n        color = era5_cmap(path / era5_paths.shape[1])\n        ax.plot(\n            lons[mask],\n            lats[mask],\n            color=color,\n            linestyle=\"-.\",\n            marker=\"x\",\n            label=\"ERA5\" if path == 0 else \"\",\n            transform=ccrs.PlateCarree(),\n        )\n\nfor path in range(sfno_paths.shape[1]):\n    # Get lat/lon coordinates, filtering out nans\n    lats = sfno_paths[0, path, :, 0]\n    lons = sfno_paths[0, path, :, 1]\n    mask = ~np.isnan(lats) & ~np.isnan(lons)\n    if mask.any() and len(lons[mask]) > 2:\n        color = sfno_cmap(path / sfno_paths.shape[1])\n        ax.plot(\n            lons[mask],\n            lats[mask],\n            color=color,\n            linestyle=\"-\",\n            label=\"SFNO\" if path == 0 else \"\",\n            transform=ccrs.PlateCarree(),\n        )\n\nera5_patch = mpatches.Rectangle(\n    (0, 0), 1, 1, fc=era5_cmap(0.3), alpha=0.9, label=\"ERA5\"\n)\nsfno_patch = mpatches.Rectangle(\n    (0, 0), 1, 1, fc=sfno_cmap(0.3), alpha=0.9, label=\"SFNO\"\n)\nax.legend(handles=[era5_patch, sfno_patch], loc=\"upper right\", title=\"Cyclone Tracks\")\n\nplt.title(\n    f'Tropical Cyclone Tracks\\n{start_time.strftime(\"%Y-%m-%d\")} to {end_time.strftime(\"%Y-%m-%d\")}'\n)\nplt.savefig(f\"outputs/13_{start_time}_cyclone_tracks.jpg\", bbox_inches=\"tight\", dpi=300)"
      ]
    },
    {
      "cell_type": "markdown",
      "metadata": {},
      "source": [
        "In addition to filtering out the NaN values, users may want to apply other post\nprocessing steps on the paths which may be enforcing path lengths are above a certain\nthreshold or other geography based filters.\n\nNo cyclone tracker is perfect, we encourage users to experiment and tune the tracker\nas needed.\n\n"
      ]
    }
  ],
  "metadata": {
    "kernelspec": {
      "display_name": "Python 3",
      "language": "python",
      "name": "python3"
    },
    "language_info": {
      "codemirror_mode": {
        "name": "ipython",
        "version": 3
      },
      "file_extension": ".py",
      "mimetype": "text/x-python",
      "name": "python",
      "nbconvert_exporter": "python",
      "pygments_lexer": "ipython3",
      "version": "3.12.9"
    }
  },
  "nbformat": 4,
  "nbformat_minor": 0
}