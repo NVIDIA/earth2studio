{
  "cells": [
    {
      "cell_type": "markdown",
      "metadata": {},
      "source": [
        "\n# Model Hook Injection: Perturbation\n\nAdding model noise by using custom hooks.\n\nThis example will demonstrate how to run an ensemble inference workflow to generate a\nperturbed ensemble forecast. This perturbation is done by injecting code into the model\nfront and rear hooks.\nThese hooks are applied to the tensor data before/after the model forward call.\n\nThis example also illustrates how you can subselect data for IO. In this example we\nwill only output two variables:\ntotal column water vapor (tcwv) and 500 hPa geopotential (z500).\nTo run this, make sure that the model selected predicts these variables are change\nappropriately.\n\nIn this example you will learn:\n\n- How to instantiate a built in prognostic model\n- Creating a data source and IO object\n- Changing the model forward/rear hooks\n- Choose a subselection of coordinates to save to an IO object.\n- Post-processing results\n"
      ]
    },
    {
      "cell_type": "markdown",
      "metadata": {},
      "source": [
        "## Creating an Ensemble Workflow\n\nTo start let's begin with creating an ensemble workflow to use. We encourage\nusers to explore and experiment with their own custom workflows that borrow ideas from\nbuilt in workflows inside :py:obj:`earth2studio.run` or the examples.\n\nCreating our own generalizable ensemble workflow is easy when we rely on the component\ninterfaces defined in Earth2Studio (use dependency injection). Here we create a run\nmethod that accepts the following:\n\n- time: Input list of datetimes / strings to run inference for\n- nsteps: Number of forecast steps to predict\n- nensemble: Number of ensembles to run for\n- prognostic: Our initialized prognostic model\n- data: Initialized data source to fetch initial conditions from\n- io: io store that data is written to.\n- output_coords: CoordSystem of output coordinates that should be saved. Should be\n  a proper subset of model output coordinates.\n\n"
      ]
    },
    {
      "cell_type": "markdown",
      "metadata": {},
      "source": [
        "## Set Up\nWith the ensemble workflow defined, we now need to create the individual components.\n\nWe need the following:\n\n- Prognostic Model: Use the built in DLWP model :py:class:`earth2studio.models.px.DLWP`.\n- Datasource: Pull data from the GFS data api :py:class:`earth2studio.data.GFS`.\n- IO Backend: Save the outputs into a Zarr store :py:class:`earth2studio.io.ZarrBackend`.\n\nWe will first run the ensemble workflow using an unmodified function, that is a model that has the\ndefault (identity) forward and rear hooks. Then we will define new hooks for the model and rerun the\ninference request.\n%%\n\n"
      ]
    },
    {
      "cell_type": "code",
      "execution_count": null,
      "metadata": {
        "collapsed": false
      },
      "outputs": [],
      "source": [
        "import os\n\nos.makedirs(\"outputs\", exist_ok=True)\nfrom dotenv import load_dotenv\n\nload_dotenv()  # TODO: make common example prep function\n\nimport numpy as np\n\nfrom earth2studio.data import GFS\nfrom earth2studio.io import ZarrBackend\nfrom earth2studio.models.px import DLWP\nfrom earth2studio.perturbation import Gaussian\nfrom earth2studio.run import ensemble\n\n# Load the default model package which downloads the check point from NGC\npackage = DLWP.load_default_package()\nmodel = DLWP.load_model(package)\n\n# Create the data source\ndata = GFS()\n\n# Create the IO handler, store in memory\nchunks = {\"ensemble\": 1, \"time\": 1, \"lead_time\": 1}\nio_unperturbed = ZarrBackend(file_name=\"outputs/05_ensemble.zarr\", chunks=chunks)"
      ]
    },
    {
      "cell_type": "markdown",
      "metadata": {},
      "source": [
        "## Execute the Workflow\nFirst, we will run the ensemble workflow but with a :py:meth:`earth2studio.perturbation.Gaussian`\nperturbation as the control.\n\nThe workflow will return the provided IO object back to the user, which can be used to\nthen post process. Some have additional APIs that can be handy for post-processing or\nsaving to file. Check the API docs for more information.\n\n"
      ]
    },
    {
      "cell_type": "code",
      "execution_count": null,
      "metadata": {
        "collapsed": false
      },
      "outputs": [],
      "source": [
        "nsteps = 4 * 12\nnensemble = 16\nbatch_size = 4\nforecast_date = \"2024-01-30\"\noutput_coords = {\n    \"lat\": np.arange(25.0, 60.0, 0.25),\n    \"lon\": np.arange(230.0, 300.0, 0.25),\n    \"variable\": np.array([\"tcwv\", \"z500\"]),\n}\n\n# First run with no model perturbation\nio_unperturbed = ensemble(\n    [forecast_date],\n    nsteps,\n    nensemble,\n    model,\n    data,\n    io_unperturbed,\n    Gaussian(noise_amplitude=0.01),\n    output_coords=output_coords,\n    batch_size=batch_size,\n)"
      ]
    },
    {
      "cell_type": "markdown",
      "metadata": {},
      "source": [
        "Now let's introduce slight model perturbation using the prognostic model hooks defined\nin :py:class:`earth2studio.models.px.utils.PrognosticMixin`.\nNote that :py:obj:`center.unsqueeze(-1)` is DLWP specific since it operates on a cubed sphere\nwith grid dimensions (nface, lat, lon) instead of just (lat,lon).\nTo switch out the model, consider removing the :py:meth:`unsqueeze` .\n\n"
      ]
    },
    {
      "cell_type": "code",
      "execution_count": null,
      "metadata": {
        "collapsed": false
      },
      "outputs": [],
      "source": [
        "model.front_hook = lambda x, coords: (\n    x\n    - 0.1\n    * x.var(dim=0)\n    * (x - model.center.unsqueeze(-1))\n    / (model.scale.unsqueeze(-1)) ** 2\n    + 0.1 * (x - x.mean(dim=0)),\n    coords,\n)\n# Also could use model.rear_hook = ...\n\nio_perturbed = ZarrBackend(\n    file_name=\"outputs/05_ensemble_model_perturbation.zarr\",\n    chunks=chunks,\n    backend_kwargs={\"overwrite\": True},\n)\nio_perturbed = ensemble(\n    [forecast_date],\n    nsteps,\n    nensemble,\n    model,\n    data,\n    io_perturbed,\n    Gaussian(noise_amplitude=0.01),\n    output_coords=output_coords,\n    batch_size=batch_size,\n)"
      ]
    },
    {
      "cell_type": "markdown",
      "metadata": {},
      "source": [
        "## Post Processing\nThe last step is to post process our results.\nHere we plot and compare the ensemble mean and standard deviation from using an\nunperturbed/perturbed model.\n\nNotice that the Zarr IO function has additional APIs to interact with the stored data.\n\n"
      ]
    },
    {
      "cell_type": "code",
      "execution_count": null,
      "metadata": {
        "collapsed": false
      },
      "outputs": [],
      "source": [
        "import cartopy.crs as ccrs\nimport matplotlib.pyplot as plt\nfrom matplotlib.colors import LogNorm\n\nlevels_unperturbed = np.linspace(0, io_unperturbed[\"tcwv\"][:].max())\nlevels_perturbed = np.linspace(0, io_perturbed[\"tcwv\"][:].max())\n\n\nstd_levels_perturbed = np.linspace(0, io_perturbed[\"tcwv\"][:].std(axis=0).max())\n\nplt.close(\"all\")\nfig = plt.figure(figsize=(20, 10), tight_layout=True)\nax0 = fig.add_subplot(2, 2, 1, projection=ccrs.PlateCarree())\nax1 = fig.add_subplot(2, 2, 2, projection=ccrs.PlateCarree())\nax2 = fig.add_subplot(2, 2, 3, projection=ccrs.PlateCarree())\nax3 = fig.add_subplot(2, 2, 4, projection=ccrs.PlateCarree())\n\n\ndef update(frame):\n    \"\"\"This function updates the frame with a new lead time for animation.\"\"\"\n    import warnings\n\n    warnings.filterwarnings(\"ignore\")\n    ax0.clear()\n    ax1.clear()\n    ax2.clear()\n    ax3.clear()\n\n    ## Update unperturbed image\n    im0 = ax0.contourf(\n        io_unperturbed[\"lon\"][:],\n        io_unperturbed[\"lat\"][:],\n        io_unperturbed[\"tcwv\"][:, 0, frame].mean(axis=0),\n        transform=ccrs.PlateCarree(),\n        cmap=\"Blues\",\n        levels=levels_unperturbed,\n    )\n    ax0.coastlines()\n    ax0.gridlines()\n\n    im1 = ax1.contourf(\n        io_unperturbed[\"lon\"][:],\n        io_unperturbed[\"lat\"][:],\n        io_unperturbed[\"tcwv\"][:, 0, frame].std(axis=0),\n        transform=ccrs.PlateCarree(),\n        cmap=\"RdPu\",\n        levels=std_levels_perturbed,\n        norm=LogNorm(vmin=1e-1, vmax=std_levels_perturbed[-1]),\n    )\n    ax1.coastlines()\n    ax1.gridlines()\n\n    im2 = ax2.contourf(\n        io_perturbed[\"lon\"][:],\n        io_perturbed[\"lat\"][:],\n        io_perturbed[\"tcwv\"][:, 0, frame].mean(axis=0),\n        transform=ccrs.PlateCarree(),\n        cmap=\"Blues\",\n        levels=levels_perturbed,\n    )\n    ax2.coastlines()\n    ax2.gridlines()\n\n    im3 = ax3.contourf(\n        io_perturbed[\"lon\"][:],\n        io_perturbed[\"lat\"][:],\n        io_perturbed[\"tcwv\"][:, 0, frame].std(axis=0),\n        transform=ccrs.PlateCarree(),\n        cmap=\"RdPu\",\n        levels=std_levels_perturbed,\n        norm=LogNorm(vmin=1e-1, vmax=std_levels_perturbed[-1]),\n    )\n    ax3.coastlines()\n    ax3.gridlines()\n\n    for i in range(16):\n        ax0.contour(\n            io_unperturbed[\"lon\"][:],\n            io_unperturbed[\"lat\"][:],\n            io_unperturbed[\"z500\"][i, 0, frame] / 100.0,\n            transform=ccrs.PlateCarree(),\n            levels=np.arange(485, 580, 15),\n            colors=\"black\",\n            linestyle=\"dashed\",\n        )\n\n        ax2.contour(\n            io_perturbed[\"lon\"][:],\n            io_perturbed[\"lat\"][:],\n            io_perturbed[\"z500\"][i, 0, frame] / 100.0,\n            transform=ccrs.PlateCarree(),\n            levels=np.arange(485, 580, 15),\n            colors=\"black\",\n            linestyle=\"dashed\",\n        )\n    plt.suptitle(\n        f'Forecast Starting on {forecast_date} - Lead Time - {io_perturbed[\"lead_time\"][frame]}'\n    )\n\n    ax0.set_title(\"Unperturbed Ensemble Mean - tcwv + z500 countors\")\n    ax1.set_title(\"Unperturbed Ensemble Std - tcwv\")\n    ax2.set_title(\"Perturbed Ensemble Mean - tcwv + z500 contours\")\n    ax3.set_title(\"Perturbed Ensemble Std - tcwv\")\n\n    if frame == 0:\n        plt.colorbar(\n            im0, ax=ax0, shrink=0.75, pad=0.04, label=\"kg m^-2\", format=\"%2.1f\"\n        )\n        plt.colorbar(\n            im1, ax=ax1, shrink=0.75, pad=0.04, label=\"kg m^-2\", format=\"%1.2e\"\n        )\n        plt.colorbar(\n            im2, ax=ax2, shrink=0.75, pad=0.04, label=\"kg m^-2\", format=\"%2.1f\"\n        )\n        plt.colorbar(\n            im3, ax=ax3, shrink=0.75, pad=0.04, label=\"kg m^-2\", format=\"%1.2e\"\n        )\n\n\n# Uncomment this for animation\n# import matplotlib.animation as animation\n# update(0)\n# ani = animation.FuncAnimation(\n# fig=fig, func=update, frames=range(1, nsteps), cache_frame_data=False\n# )\n# ani.save(f\"outputs/05_model_perturbation_{forecast_date}.gif\", dpi=300)\n\n\nfor lt in [10, 20, 30, 40]:\n    update(lt)\n    plt.savefig(\n        f\"outputs/05_model_perturbation_{forecast_date}_leadtime_{lt}.png\",\n        dpi=300,\n        bbox_inches=\"tight\",\n    )"
      ]
    }
  ],
  "metadata": {
    "kernelspec": {
      "display_name": "Python 3",
      "language": "python",
      "name": "python3"
    },
    "language_info": {
      "codemirror_mode": {
        "name": "ipython",
        "version": 3
      },
      "file_extension": ".py",
      "mimetype": "text/x-python",
      "name": "python",
      "nbconvert_exporter": "python",
      "pygments_lexer": "ipython3",
      "version": "3.12.3"
    }
  },
  "nbformat": 4,
  "nbformat_minor": 0
}