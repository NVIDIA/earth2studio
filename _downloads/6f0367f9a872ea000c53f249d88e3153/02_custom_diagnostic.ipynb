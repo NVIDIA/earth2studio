{
  "cells": [
    {
      "cell_type": "markdown",
      "metadata": {},
      "source": [
        "\n# Extending Diagnostic Models\n\nImplementing a custom diagnostic model\n\nThis example will demonstrate how to extend Earth2Studio by implementing a custom\ndiagnostic model and running it in a general workflow.\n\nIn this example you will learn:\n\n- API requirements of diagnostic models\n- Implementing a custom diagnostic model\n- Running this custom model in a workflow with built in prognostic\n"
      ]
    },
    {
      "cell_type": "markdown",
      "metadata": {},
      "source": [
        "## Custom Diagnostic\nAs discussed in the `diagnostic_model_userguide` section of the user guide,\nEarth2Studio defines a diagnostic model through a simple interface\n:py:class:`earth2studio.models.dx.base.Diagnostic Model`. This can be used to help\nguide the required APIs needed to successfully create our own model.\n\nIn this example, lets consider a simple diagnostic that converts the surface\ntemperature in Kelvin to Celsius to make it more readable for the average person.\n\nOur diagnostic model has a base class of :py:class:`torch.nn.Module` which allows us\nto get the required :py:obj:`to(device)` method for free.\n\n"
      ]
    },
    {
      "cell_type": "code",
      "execution_count": null,
      "metadata": {
        "collapsed": false
      },
      "outputs": [],
      "source": [
        "import os\n\nos.makedirs(\"outputs\", exist_ok=True)\nfrom dotenv import load_dotenv\n\nload_dotenv()  # TODO: make common example prep function\n\nfrom collections import OrderedDict\n\nimport numpy as np\nimport torch\n\nfrom earth2studio.models.batch import batch_coords, batch_func\nfrom earth2studio.utils import handshake_coords, handshake_dim\nfrom earth2studio.utils.type import CoordSystem\n\n\nclass CustomDiagnostic(torch.nn.Module):\n    \"\"\"Custom dianostic model\"\"\"\n\n    def __init__(self):\n        super().__init__()\n\n    def input_coords(self) -> CoordSystem:\n        \"\"\"Input coordinate system of the prognostic model\n\n        Returns\n        -------\n        CoordSystem\n            Coordinate system dictionary\n        \"\"\"\n        return OrderedDict(\n            {\n                \"batch\": np.empty(0),\n                \"variable\": np.array([\"t2m\"]),\n                \"lat\": np.linspace(90, -90, 721),\n                \"lon\": np.linspace(0, 360, 1440, endpoint=False),\n            }\n        )\n\n    @batch_coords()\n    def output_coords(self, input_coords: CoordSystem) -> CoordSystem:\n        \"\"\"Output coordinate system of the prognostic model\n\n        Parameters\n        ----------\n        input_coords : CoordSystem\n            Input coordinate system to transform into output_coords\n\n        Returns\n        -------\n        CoordSystem\n            Coordinate system dictionary\n        \"\"\"\n        # Check input coordinates are valid\n        target_input_coords = self.input_coords()\n        for i, (key, value) in enumerate(target_input_coords.items()):\n            if key != \"batch\":\n                handshake_dim(input_coords, key, i)\n                handshake_coords(input_coords, target_input_coords, key)\n\n        output_coords = OrderedDict(\n            {\n                \"batch\": np.empty(0),\n                \"variable\": np.array([\"t2m_c\"]),\n                \"lat\": np.linspace(90, -90, 721),\n                \"lon\": np.linspace(0, 360, 1440, endpoint=False),\n            }\n        )\n        output_coords[\"batch\"] = input_coords[\"batch\"]\n        return output_coords\n\n    @batch_func()\n    def __call__(\n        self,\n        x: torch.Tensor,\n        coords: CoordSystem,\n    ) -> tuple[torch.Tensor, CoordSystem]:\n        \"\"\"Runs diagnostic model\n\n        Parameters\n        ----------\n        x : torch.Tensor\n            Input tensor\n        coords : CoordSystem\n            Input coordinate system\n        \"\"\"\n        out_coords = self.output_coords(coords)\n        out = x - 273.15  # To celcius\n        return out, out_coords"
      ]
    },
    {
      "cell_type": "markdown",
      "metadata": {},
      "source": [
        "### Input/Output Coordinates\nDefining the input/output coordinate systems is essential for any model in\nEarth2Studio since this is how both the package and users can learn what type of data\nthe model expects. This requires the definition of  :py:func:`input_coords` and\n:py:func:`output_coords`. Have a look at `coordinates_userguide` for details on\ncoordinate system.\n\nFor this diagnostic model, we simply define the input coordinates\nto be the global surface temperature specified in :py:file:`earth2studio.lexicon.base.py`.\nThe output is a custom variable :py:var:`t2m_c` that represents the temperature in\nCelsius.\n\n"
      ]
    },
    {
      "cell_type": "markdown",
      "metadata": {},
      "source": [
        "### :py:func:`__call__` API\nThe call function is the main API of diagnostic models that have a tensor and\ncoordinate system as input/output. This function first validates that the coordinate\nsystem is correct. Then both the input data tensor and also coordinate system are\nupdated and returned.\n\n<div class=\"alert alert-info\"><h4>Note</h4><p>You may notice the :py:func:`batch_func` decorator, which is used to make batched\n  operations easier. For more details about this refer to the `batch_function_userguide`\n  section of the user guide.</p></div>\n\n"
      ]
    },
    {
      "cell_type": "markdown",
      "metadata": {},
      "source": [
        "## Set Up\nWith the custom diagnostic model defined, the next step is to set up and run a\nworkflow. We will use the built in workflow :py:meth:`earth2studio.run.diagnostic`.\n\n"
      ]
    },
    {
      "cell_type": "markdown",
      "metadata": {},
      "source": [
        "Lets instantiate the components needed.\n\n- Prognostic Model: Use the built in DLWP model :py:class:`earth2studio.models.px.DLWP`.\n- Diagnostic Model: The custom diagnostic model defined above\n- Datasource: Pull data from the GFS data api :py:class:`earth2studio.data.GFS`.\n- IO Backend: Save the outputs into a Zarr store :py:class:`earth2studio.io.ZarrBackend`.\n\n"
      ]
    },
    {
      "cell_type": "code",
      "execution_count": null,
      "metadata": {
        "collapsed": false
      },
      "outputs": [],
      "source": [
        "from dotenv import load_dotenv\n\nload_dotenv()  # TODO: make common example prep function\n\nfrom earth2studio.data import GFS\nfrom earth2studio.io import ZarrBackend\nfrom earth2studio.models.px import DLWP\n\n# Load the default model package which downloads the check point from NGC\npackage = DLWP.load_default_package()\nmodel = DLWP.load_model(package)\n\n# Diagnostic model\ndiagnostic = CustomDiagnostic()\n\n# Create the data source\ndata = GFS()\n\n# Create the IO handler, store in memory\nio = ZarrBackend()"
      ]
    },
    {
      "cell_type": "markdown",
      "metadata": {},
      "source": [
        "## Execute the Workflow\nRunning our workflow with a build in prognostic model and a custom diagnostic is the\nsame as running a built in diagnostic.\n\n"
      ]
    },
    {
      "cell_type": "code",
      "execution_count": null,
      "metadata": {
        "collapsed": false
      },
      "outputs": [],
      "source": [
        "import earth2studio.run as run\n\nnsteps = 20\nio = run.diagnostic([\"2024-01-01\"], nsteps, model, diagnostic, data, io)\n\nprint(io.root.tree())"
      ]
    },
    {
      "cell_type": "markdown",
      "metadata": {},
      "source": [
        "## Post Processing\nLet's plot the Celsius temperature field from our custom diagnostic model.\n\n"
      ]
    },
    {
      "cell_type": "code",
      "execution_count": null,
      "metadata": {
        "collapsed": false
      },
      "outputs": [],
      "source": [
        "import cartopy.crs as ccrs\nimport matplotlib.pyplot as plt\n\nforecast = \"2024-01-01\"\nvariable = \"t2m_c\"\n\nplt.close(\"all\")\n\n# Create a figure and axes with the specified projection\nfig, ax = plt.subplots(\n    1,\n    5,\n    figsize=(12, 4),\n    subplot_kw={\"projection\": ccrs.Orthographic()},\n    constrained_layout=True,\n)\n\ntimes = io[\"lead_time\"].astype(\"timedelta64[h]\").astype(int)\nstep = 4  # 24hrs\nfor i, t in enumerate(range(0, 20, step)):\n\n    ctr = ax[i].contourf(\n        io[\"lon\"][:],\n        io[\"lat\"][:],\n        io[variable][0, t],\n        vmin=-10,\n        vmax=30,\n        transform=ccrs.PlateCarree(),\n        levels=20,\n        cmap=\"coolwarm\",\n    )\n    ax[i].set_title(f\"{times[t]}hrs\")\n    ax[i].coastlines()\n    ax[i].gridlines()\n\nplt.suptitle(f\"{variable} - {forecast}\")\n\ncbar = plt.cm.ScalarMappable(cmap=\"coolwarm\")\ncbar.set_array(io[variable][0, 0])\ncbar.set_clim(-10.0, 30)\ncbar = fig.colorbar(cbar, ax=ax[-1], orientation=\"vertical\", label=\"C\", shrink=0.8)\n\n\nplt.savefig(\"outputs/custom_diagnostic_dlwp_prediction.jpg\")"
      ]
    }
  ],
  "metadata": {
    "kernelspec": {
      "display_name": "Python 3",
      "language": "python",
      "name": "python3"
    },
    "language_info": {
      "codemirror_mode": {
        "name": "ipython",
        "version": 3
      },
      "file_extension": ".py",
      "mimetype": "text/x-python",
      "name": "python",
      "nbconvert_exporter": "python",
      "pygments_lexer": "ipython3",
      "version": "3.10.12"
    }
  },
  "nbformat": 4,
  "nbformat_minor": 0
}